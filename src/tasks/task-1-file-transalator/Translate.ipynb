{
 "cells": [
  {
   "cell_type": "markdown",
   "metadata": {},
   "source": [
    "This notebook will conver csv file at given path from german to english.<br>\n",
    "All that is left to add appropriate code to write out dataframe top csv at a particular path.<br>\n",
    "put the translation function in a loop.<br>\n",
    "Manually format csv files.<br>"
   ]
  },
  {
   "cell_type": "code",
   "execution_count": 24,
   "metadata": {},
   "outputs": [],
   "source": [
    "# Importing necessary library\n",
    "from deep_translator import GoogleTranslator\n",
    "import os\n",
    "import pandas as pd"
   ]
  },
  {
   "cell_type": "code",
   "execution_count": 22,
   "metadata": {},
   "outputs": [],
   "source": [
    "def get_filepaths(directory,extension):\n",
    "    \"\"\"\n",
    "    This function will generate the file names in a directory \n",
    "    tree by walking the tree either top-down or bottom-up. For each \n",
    "    directory in the tree rooted at directory top (including top itself), \n",
    "    it yields a 3-tuple (dirpath, dirnames, filenames).\n",
    "    \"\"\"\n",
    "    file_paths = []  # List which will store all of the full filepaths.\n",
    "\n",
    "    # Walk the tree.\n",
    "    for root, directories, files in os.walk(directory):\n",
    "        for filename in files:\n",
    "            # Join the two strings in order to form the full filepath.\n",
    "            filepath = os.path.join(root, filename)\n",
    "            if filename.endswith(extension):  # If the filename ends with the extension.\n",
    "                filepath_new = filepath.replace('\\\\','//')\n",
    "                file_paths.append(filepath_new)  # Add it to the list.\n",
    "                \n",
    "\n",
    "    return file_paths  # Self-explanatory."
   ]
  },
  {
   "cell_type": "code",
   "execution_count": 45,
   "metadata": {},
   "outputs": [],
   "source": [
    "path = \"D://jupyterlab//Berlin-Chapter-Challenge-Waste-Management//src//data//raw datasets//\"\n",
    "file_paths = get_filepaths(path,'.csv')\n"
   ]
  },
  {
   "cell_type": "code",
   "execution_count": 142,
   "metadata": {},
   "outputs": [],
   "source": [
    "def german_to_english(path):\n",
    "    \n",
    "    '''\n",
    "    This function takes in csv path as an input file and converts it from German to english\n",
    "    '''\n",
    "    \n",
    "    df = pd.read_csv(path,encoding='latin-1')\n",
    "    \n",
    "    eng_column_list=[]\n",
    "    \n",
    "    for column in df.columns:\n",
    "        eng_column = GoogleTranslator(source='german', target='english').translate(column)\n",
    "        eng_column_list.append(eng_column)\n",
    "        \n",
    "    df.columns = eng_column_list    \n",
    "    \n",
    "    df[string_columns.columns] = string_columns.applymap(GoogleTranslator(source='german', target='english').translate)\n",
    "        \n",
    "    return df    "
   ]
  },
  {
   "cell_type": "code",
   "execution_count": 143,
   "metadata": {},
   "outputs": [
    {
     "data": {
      "text/plain": [
       "'D://jupyterlab//Berlin-Chapter-Challenge-Waste-Management//src//data//raw datasets//Test File//Test.csv'"
      ]
     },
     "execution_count": 143,
     "metadata": {},
     "output_type": "execute_result"
    }
   ],
   "source": [
    "file_paths[13]"
   ]
  },
  {
   "cell_type": "code",
   "execution_count": 144,
   "metadata": {},
   "outputs": [],
   "source": [
    "df = german_to_english(file_paths[13])\n",
    "\n",
    "#if x.dtypes==object else x"
   ]
  },
  {
   "cell_type": "code",
   "execution_count": 145,
   "metadata": {},
   "outputs": [
    {
     "data": {
      "text/html": [
       "<div>\n",
       "<style scoped>\n",
       "    .dataframe tbody tr th:only-of-type {\n",
       "        vertical-align: middle;\n",
       "    }\n",
       "\n",
       "    .dataframe tbody tr th {\n",
       "        vertical-align: top;\n",
       "    }\n",
       "\n",
       "    .dataframe thead th {\n",
       "        text-align: right;\n",
       "    }\n",
       "</style>\n",
       "<table border=\"1\" class=\"dataframe\">\n",
       "  <thead>\n",
       "    <tr style=\"text-align: right;\">\n",
       "      <th></th>\n",
       "      <th>Survey of hazardous waste</th>\n",
       "      <th>Producers of primary proven waste quantities</th>\n",
       "      <th>Amount of waste handed over to waste disposal companies in your own federal state</th>\n",
       "      <th>Amount of waste handed over to waste disposal companies in other federal states</th>\n",
       "      <th>Total amount of waste handed over to disposal companies</th>\n",
       "    </tr>\n",
       "  </thead>\n",
       "  <tbody>\n",
       "    <tr>\n",
       "      <th>0</th>\n",
       "      <td>0</td>\n",
       "      <td>0</td>\n",
       "      <td>0</td>\n",
       "      <td>0</td>\n",
       "      <td>0</td>\n",
       "    </tr>\n",
       "  </tbody>\n",
       "</table>\n",
       "</div>"
      ],
      "text/plain": [
       "   Survey of hazardous waste  Producers of primary proven waste quantities   \n",
       "0                          0                                             0  \\\n",
       "\n",
       "   Amount of waste handed over to waste disposal companies in your own federal state   \n",
       "0                                                  0                                  \\\n",
       "\n",
       "   Amount of waste handed over to waste disposal companies in other federal states   \n",
       "0                                                  0                                \\\n",
       "\n",
       "   Total amount of waste handed over to disposal companies  \n",
       "0                                                  0        "
      ]
     },
     "execution_count": 145,
     "metadata": {},
     "output_type": "execute_result"
    }
   ],
   "source": [
    "df"
   ]
  }
 ],
 "metadata": {
  "kernelspec": {
   "display_name": "Python 3",
   "language": "python",
   "name": "python3"
  },
  "language_info": {
   "codemirror_mode": {
    "name": "ipython",
    "version": 3
   },
   "file_extension": ".py",
   "mimetype": "text/x-python",
   "name": "python",
   "nbconvert_exporter": "python",
   "pygments_lexer": "ipython3",
   "version": "3.9.10"
  },
  "orig_nbformat": 4
 },
 "nbformat": 4,
 "nbformat_minor": 2
}
