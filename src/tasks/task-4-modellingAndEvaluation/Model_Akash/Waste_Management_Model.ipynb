{
 "cells": [
  {
   "cell_type": "markdown",
   "id": "6fe77790",
   "metadata": {},
   "source": [
    "# Waste_Management_Model"
   ]
  },
  {
   "cell_type": "code",
   "execution_count": 1,
   "id": "7cf81bb6",
   "metadata": {},
   "outputs": [],
   "source": [
    "# Import required libraries.\n",
    "import pandas as pd\n",
    "import numpy as np\n",
    "import matplotlib.pyplot as plt\n",
    "%matplotlib inline\n",
    "import seaborn as sns\n",
    "import warnings\n",
    "warnings.filterwarnings('ignore')\n",
    "from sklearn.preprocessing import LabelEncoder\n",
    "from sklearn.preprocessing import  MinMaxScaler\n",
    "from sklearn.model_selection import train_test_split , cross_val_score\n",
    "from sklearn.ensemble import RandomForestRegressor\n",
    "from sklearn.linear_model import LinearRegression\n",
    "from sklearn.metrics import mean_squared_error, r2_score\n",
    "from sklearn.model_selection import GridSearchCV"
   ]
  },
  {
   "cell_type": "code",
   "execution_count": 2,
   "id": "d0d28fe6",
   "metadata": {},
   "outputs": [],
   "source": [
    "# Read the CSV file into a DataFrame\n",
    "df = pd.read_csv(\"Processed_DatasetsAmount-of Waste-Generated-By-State 32121-0003.csv\")"
   ]
  },
  {
   "cell_type": "code",
   "execution_count": 3,
   "id": "87bb7f1d",
   "metadata": {},
   "outputs": [
    {
     "data": {
      "text/html": [
       "<div>\n",
       "<style scoped>\n",
       "    .dataframe tbody tr th:only-of-type {\n",
       "        vertical-align: middle;\n",
       "    }\n",
       "\n",
       "    .dataframe tbody tr th {\n",
       "        vertical-align: top;\n",
       "    }\n",
       "\n",
       "    .dataframe thead th {\n",
       "        text-align: right;\n",
       "    }\n",
       "</style>\n",
       "<table border=\"1\" class=\"dataframe\">\n",
       "  <thead>\n",
       "    <tr style=\"text-align: right;\">\n",
       "      <th></th>\n",
       "      <th>Year</th>\n",
       "      <th>States</th>\n",
       "      <th>Types of Waste</th>\n",
       "      <th>Total Household Waste Generated (Tons)</th>\n",
       "      <th>Household Waste Generated per Inhabitant (kg)</th>\n",
       "    </tr>\n",
       "  </thead>\n",
       "  <tbody>\n",
       "    <tr>\n",
       "      <th>0</th>\n",
       "      <td>2004</td>\n",
       "      <td>Baden-Württemberg</td>\n",
       "      <td>Residual household and bulky wastes</td>\n",
       "      <td>1605.6</td>\n",
       "      <td>150.0</td>\n",
       "    </tr>\n",
       "    <tr>\n",
       "      <th>1</th>\n",
       "      <td>2004</td>\n",
       "      <td>Baden-Württemberg</td>\n",
       "      <td>Separately collected organic wastes</td>\n",
       "      <td>1220.5</td>\n",
       "      <td>114.0</td>\n",
       "    </tr>\n",
       "    <tr>\n",
       "      <th>2</th>\n",
       "      <td>2004</td>\n",
       "      <td>Baden-Württemberg</td>\n",
       "      <td>Separately collected recyclables</td>\n",
       "      <td>1645.3</td>\n",
       "      <td>154.0</td>\n",
       "    </tr>\n",
       "    <tr>\n",
       "      <th>3</th>\n",
       "      <td>2004</td>\n",
       "      <td>Baden-Württemberg</td>\n",
       "      <td>Other wastes</td>\n",
       "      <td>9.4</td>\n",
       "      <td>1.0</td>\n",
       "    </tr>\n",
       "    <tr>\n",
       "      <th>4</th>\n",
       "      <td>2004</td>\n",
       "      <td>Bayern</td>\n",
       "      <td>Separately collected organic wastes</td>\n",
       "      <td>1677.3</td>\n",
       "      <td>135.0</td>\n",
       "    </tr>\n",
       "  </tbody>\n",
       "</table>\n",
       "</div>"
      ],
      "text/plain": [
       "   Year             States                       Types of Waste  \\\n",
       "0  2004  Baden-Württemberg  Residual household and bulky wastes   \n",
       "1  2004  Baden-Württemberg  Separately collected organic wastes   \n",
       "2  2004  Baden-Württemberg     Separately collected recyclables   \n",
       "3  2004  Baden-Württemberg                         Other wastes   \n",
       "4  2004             Bayern  Separately collected organic wastes   \n",
       "\n",
       "   Total Household Waste Generated (Tons)  \\\n",
       "0                                  1605.6   \n",
       "1                                  1220.5   \n",
       "2                                  1645.3   \n",
       "3                                     9.4   \n",
       "4                                  1677.3   \n",
       "\n",
       "   Household Waste Generated per Inhabitant (kg)  \n",
       "0                                          150.0  \n",
       "1                                          114.0  \n",
       "2                                          154.0  \n",
       "3                                            1.0  \n",
       "4                                          135.0  "
      ]
     },
     "execution_count": 3,
     "metadata": {},
     "output_type": "execute_result"
    }
   ],
   "source": [
    "df.head()"
   ]
  },
  {
   "cell_type": "code",
   "execution_count": 4,
   "id": "35e8bae0",
   "metadata": {},
   "outputs": [
    {
     "data": {
      "text/plain": [
       "(1046, 5)"
      ]
     },
     "execution_count": 4,
     "metadata": {},
     "output_type": "execute_result"
    }
   ],
   "source": [
    "# Check Number of Rows & Columns present in the DataFrame df. \n",
    "df.shape"
   ]
  },
  {
   "cell_type": "markdown",
   "id": "05a13fba",
   "metadata": {},
   "source": [
    "## Data Preprocessing"
   ]
  },
  {
   "cell_type": "code",
   "execution_count": 5,
   "id": "b768b5b8",
   "metadata": {},
   "outputs": [
    {
     "data": {
      "text/plain": [
       "array(['Residual household and bulky wastes',\n",
       "       'Separately collected organic wastes',\n",
       "       'Separately collected recyclables', 'Other wastes'], dtype=object)"
      ]
     },
     "execution_count": 5,
     "metadata": {},
     "output_type": "execute_result"
    }
   ],
   "source": [
    "df['Types of Waste'].unique()"
   ]
  },
  {
   "cell_type": "code",
   "execution_count": 6,
   "id": "e7132e70",
   "metadata": {},
   "outputs": [
    {
     "data": {
      "text/plain": [
       "Year                                             0\n",
       "States                                           0\n",
       "Types of Waste                                   0\n",
       "Total Household Waste Generated (Tons)           0\n",
       "Household Waste Generated per Inhabitant (kg)    0\n",
       "dtype: int64"
      ]
     },
     "execution_count": 6,
     "metadata": {},
     "output_type": "execute_result"
    }
   ],
   "source": [
    "# Check null values present in the DataFrame df.\n",
    "df.isnull().sum()"
   ]
  },
  {
   "cell_type": "code",
   "execution_count": 7,
   "id": "9646186f",
   "metadata": {},
   "outputs": [
    {
     "data": {
      "text/plain": [
       "0"
      ]
     },
     "execution_count": 7,
     "metadata": {},
     "output_type": "execute_result"
    }
   ],
   "source": [
    "# Check for duplicate values.\n",
    "df.duplicated().sum()"
   ]
  },
  {
   "cell_type": "code",
   "execution_count": 8,
   "id": "e866ea37",
   "metadata": {
    "scrolled": false
   },
   "outputs": [
    {
     "data": {
      "text/html": [
       "<div>\n",
       "<style scoped>\n",
       "    .dataframe tbody tr th:only-of-type {\n",
       "        vertical-align: middle;\n",
       "    }\n",
       "\n",
       "    .dataframe tbody tr th {\n",
       "        vertical-align: top;\n",
       "    }\n",
       "\n",
       "    .dataframe thead th {\n",
       "        text-align: right;\n",
       "    }\n",
       "</style>\n",
       "<table border=\"1\" class=\"dataframe\">\n",
       "  <thead>\n",
       "    <tr style=\"text-align: right;\">\n",
       "      <th></th>\n",
       "      <th>Year</th>\n",
       "      <th>Total Household Waste Generated (Tons)</th>\n",
       "      <th>Household Waste Generated per Inhabitant (kg)</th>\n",
       "    </tr>\n",
       "  </thead>\n",
       "  <tbody>\n",
       "    <tr>\n",
       "      <th>count</th>\n",
       "      <td>1046.000000</td>\n",
       "      <td>1046.000000</td>\n",
       "      <td>1046.000000</td>\n",
       "    </tr>\n",
       "    <tr>\n",
       "      <th>mean</th>\n",
       "      <td>2012.451243</td>\n",
       "      <td>405.893881</td>\n",
       "      <td>110.816904</td>\n",
       "    </tr>\n",
       "    <tr>\n",
       "      <th>std</th>\n",
       "      <td>5.181030</td>\n",
       "      <td>462.755575</td>\n",
       "      <td>80.167121</td>\n",
       "    </tr>\n",
       "    <tr>\n",
       "      <th>min</th>\n",
       "      <td>2004.000000</td>\n",
       "      <td>0.100000</td>\n",
       "      <td>1.000000</td>\n",
       "    </tr>\n",
       "    <tr>\n",
       "      <th>25%</th>\n",
       "      <td>2008.000000</td>\n",
       "      <td>29.400000</td>\n",
       "      <td>21.000000</td>\n",
       "    </tr>\n",
       "    <tr>\n",
       "      <th>50%</th>\n",
       "      <td>2012.000000</td>\n",
       "      <td>230.300000</td>\n",
       "      <td>125.000000</td>\n",
       "    </tr>\n",
       "    <tr>\n",
       "      <th>75%</th>\n",
       "      <td>2017.000000</td>\n",
       "      <td>613.750000</td>\n",
       "      <td>163.000000</td>\n",
       "    </tr>\n",
       "    <tr>\n",
       "      <th>max</th>\n",
       "      <td>2021.000000</td>\n",
       "      <td>1799.100000</td>\n",
       "      <td>349.000000</td>\n",
       "    </tr>\n",
       "  </tbody>\n",
       "</table>\n",
       "</div>"
      ],
      "text/plain": [
       "              Year  Total Household Waste Generated (Tons)  \\\n",
       "count  1046.000000                             1046.000000   \n",
       "mean   2012.451243                              405.893881   \n",
       "std       5.181030                              462.755575   \n",
       "min    2004.000000                                0.100000   \n",
       "25%    2008.000000                               29.400000   \n",
       "50%    2012.000000                              230.300000   \n",
       "75%    2017.000000                              613.750000   \n",
       "max    2021.000000                             1799.100000   \n",
       "\n",
       "       Household Waste Generated per Inhabitant (kg)  \n",
       "count                                    1046.000000  \n",
       "mean                                      110.816904  \n",
       "std                                        80.167121  \n",
       "min                                         1.000000  \n",
       "25%                                        21.000000  \n",
       "50%                                       125.000000  \n",
       "75%                                       163.000000  \n",
       "max                                       349.000000  "
      ]
     },
     "execution_count": 8,
     "metadata": {},
     "output_type": "execute_result"
    }
   ],
   "source": [
    "# Check basic statistics of numeric columns.\n",
    "df.describe()"
   ]
  },
  {
   "cell_type": "code",
   "execution_count": 9,
   "id": "54ebf1f2",
   "metadata": {},
   "outputs": [
    {
     "data": {
      "image/png": "[encoded data removed]",
      "text/plain": [
       "<Figure size 720x432 with 1 Axes>"
      ]
     },
     "metadata": {
      "needs_background": "light"
     },
     "output_type": "display_data"
    }
   ],
   "source": [
    "# Visualize the scater plot\n",
    "plt.figure(figsize=(10, 6))\n",
    "plt.scatter(x= df['Total Household Waste Generated (Tons)'],y=df['Household Waste Generated per Inhabitant (kg)'] )\n",
    "plt.ylabel('Household Waste Generated per Inhabitant (kg)')\n",
    "plt.xlabel('Total Household Waste Generated (Tons)')\n",
    "plt.title('scater plot')\n",
    "plt.grid(True)\n",
    "plt.show()"
   ]
  },
  {
   "cell_type": "code",
   "execution_count": 10,
   "id": "55e5a8a0",
   "metadata": {},
   "outputs": [
    {
     "data": {
      "image/png": "[encoded data removed]",
      "text/plain": [
       "<Figure size 720x432 with 2 Axes>"
      ]
     },
     "metadata": {
      "needs_background": "light"
     },
     "output_type": "display_data"
    }
   ],
   "source": [
    "# Create a heatmap.\n",
    "plt.figure(figsize=(10,6))\n",
    "sns.heatmap(df.corr(), annot=True, cmap ='viridis')\n",
    "plt.show()"
   ]
  },
  {
   "cell_type": "markdown",
   "id": "4e84f71e",
   "metadata": {},
   "source": [
    "**No such strong co-relation found**"
   ]
  },
  {
   "cell_type": "code",
   "execution_count": 11,
   "id": "520d912d",
   "metadata": {},
   "outputs": [],
   "source": [
    "# unique waste_types \n",
    "waste_types= df['Types of Waste'].unique()"
   ]
  },
  {
   "cell_type": "markdown",
   "id": "626decb6",
   "metadata": {},
   "source": [
    "## Encoding"
   ]
  },
  {
   "cell_type": "code",
   "execution_count": 12,
   "id": "dde2c36d",
   "metadata": {},
   "outputs": [],
   "source": [
    "# Use lable encoding for column 'Type of waste'\n",
    "encoder = LabelEncoder()\n",
    "df['Types of Waste'] = encoder.fit_transform(df['Types of Waste'])\n",
    "df['States'] = encoder.fit_transform(df['States'])"
   ]
  },
  {
   "cell_type": "code",
   "execution_count": 13,
   "id": "aa180b0c",
   "metadata": {},
   "outputs": [
    {
     "name": "stdout",
     "output_type": "stream",
     "text": [
      "Residual household and bulky wastes is encoded as 1\n",
      "Separately collected organic wastes is encoded as 2\n",
      "Separately collected recyclables is encoded as 3\n",
      "Other wastes is encoded as 0\n"
     ]
    }
   ],
   "source": [
    "# Create encoded lables\n",
    "encoded_labels = encoder.fit_transform(waste_types)\n",
    "\n",
    "# Create a mapping of waste types to encoded labels\n",
    "mapping = dict(zip(waste_types, encoded_labels))\n",
    "\n",
    "# Print the mapping\n",
    "for waste_type, encoded_label in mapping.items():\n",
    "    print(waste_type, \"is encoded as\", encoded_label)"
   ]
  },
  {
   "cell_type": "code",
   "execution_count": 14,
   "id": "2aef8064",
   "metadata": {},
   "outputs": [],
   "source": [
    "# Define dependant & independant variables.\n",
    "X = df[['Year','States','Types of Waste']] # Independant variables\n",
    "y = df[['Total Household Waste Generated (Tons)','Household Waste Generated per Inhabitant (kg)']] # dependant variables"
   ]
  },
  {
   "cell_type": "markdown",
   "id": "8d1a87bc",
   "metadata": {},
   "source": [
    "## Scaling"
   ]
  },
  {
   "cell_type": "code",
   "execution_count": 15,
   "id": "ef79bf7e",
   "metadata": {},
   "outputs": [],
   "source": [
    "# Scale the data using Min Max Scaler.\n",
    "scaler = MinMaxScaler(feature_range=(-1, 1))\n",
    "columns_to_scale = ['Total Household Waste Generated (Tons)', 'Household Waste Generated per Inhabitant (kg)']\n",
    "y_scaled = scaler.fit_transform(df[columns_to_scale])\n",
    "y_scaled = pd.DataFrame(y_scaled, columns=columns_to_scale)"
   ]
  },
  {
   "cell_type": "code",
   "execution_count": 16,
   "id": "e3d2e49d",
   "metadata": {},
   "outputs": [],
   "source": [
    "# Train test split\n",
    "X_train, X_test, y_train, y_test = train_test_split(X, y_scaled, test_size=0.2, random_state=42)"
   ]
  },
  {
   "cell_type": "code",
   "execution_count": 17,
   "id": "b6a6b3a4",
   "metadata": {},
   "outputs": [],
   "source": [
    "# Models\n",
    "reg_model = LinearRegression()\n",
    "rf_model  = RandomForestRegressor()"
   ]
  },
  {
   "cell_type": "markdown",
   "id": "1dbfe5bb",
   "metadata": {},
   "source": [
    "## Train the Model"
   ]
  },
  {
   "cell_type": "code",
   "execution_count": 18,
   "id": "6feb14b5",
   "metadata": {},
   "outputs": [
    {
     "data": {
      "text/html": [
       "<style>#sk-container-id-1 {color: black;background-color: white;}#sk-container-id-1 pre{padding: 0;}#sk-container-id-1 div.sk-toggleable {background-color: white;}#sk-container-id-1 label.sk-toggleable__label {cursor: pointer;display: block;width: 100%;margin-bottom: 0;padding: 0.3em;box-sizing: border-box;text-align: center;}#sk-container-id-1 label.sk-toggleable__label-arrow:before {content: \"▸\";float: left;margin-right: 0.25em;color: #696969;}#sk-container-id-1 label.sk-toggleable__label-arrow:hover:before {color: black;}#sk-container-id-1 div.sk-estimator:hover label.sk-toggleable__label-arrow:before {color: black;}#sk-container-id-1 div.sk-toggleable__content {max-height: 0;max-width: 0;overflow: hidden;text-align: left;background-color: #f0f8ff;}#sk-container-id-1 div.sk-toggleable__content pre {margin: 0.2em;color: black;border-radius: 0.25em;background-color: #f0f8ff;}#sk-container-id-1 input.sk-toggleable__control:checked~div.sk-toggleable__content {max-height: 200px;max-width: 100%;overflow: auto;}#sk-container-id-1 input.sk-toggleable__control:checked~label.sk-toggleable__label-arrow:before {content: \"▾\";}#sk-container-id-1 div.sk-estimator input.sk-toggleable__control:checked~label.sk-toggleable__label {background-color: #d4ebff;}#sk-container-id-1 div.sk-label input.sk-toggleable__control:checked~label.sk-toggleable__label {background-color: #d4ebff;}#sk-container-id-1 input.sk-hidden--visually {border: 0;clip: rect(1px 1px 1px 1px);clip: rect(1px, 1px, 1px, 1px);height: 1px;margin: -1px;overflow: hidden;padding: 0;position: absolute;width: 1px;}#sk-container-id-1 div.sk-estimator {font-family: monospace;background-color: #f0f8ff;border: 1px dotted black;border-radius: 0.25em;box-sizing: border-box;margin-bottom: 0.5em;}#sk-container-id-1 div.sk-estimator:hover {background-color: #d4ebff;}#sk-container-id-1 div.sk-parallel-item::after {content: \"\";width: 100%;border-bottom: 1px solid gray;flex-grow: 1;}#sk-container-id-1 div.sk-label:hover label.sk-toggleable__label {background-color: #d4ebff;}#sk-container-id-1 div.sk-serial::before {content: \"\";position: absolute;border-left: 1px solid gray;box-sizing: border-box;top: 0;bottom: 0;left: 50%;z-index: 0;}#sk-container-id-1 div.sk-serial {display: flex;flex-direction: column;align-items: center;background-color: white;padding-right: 0.2em;padding-left: 0.2em;position: relative;}#sk-container-id-1 div.sk-item {position: relative;z-index: 1;}#sk-container-id-1 div.sk-parallel {display: flex;align-items: stretch;justify-content: center;background-color: white;position: relative;}#sk-container-id-1 div.sk-item::before, #sk-container-id-1 div.sk-parallel-item::before {content: \"\";position: absolute;border-left: 1px solid gray;box-sizing: border-box;top: 0;bottom: 0;left: 50%;z-index: -1;}#sk-container-id-1 div.sk-parallel-item {display: flex;flex-direction: column;z-index: 1;position: relative;background-color: white;}#sk-container-id-1 div.sk-parallel-item:first-child::after {align-self: flex-end;width: 50%;}#sk-container-id-1 div.sk-parallel-item:last-child::after {align-self: flex-start;width: 50%;}#sk-container-id-1 div.sk-parallel-item:only-child::after {width: 0;}#sk-container-id-1 div.sk-dashed-wrapped {border: 1px dashed gray;margin: 0 0.4em 0.5em 0.4em;box-sizing: border-box;padding-bottom: 0.4em;background-color: white;}#sk-container-id-1 div.sk-label label {font-family: monospace;font-weight: bold;display: inline-block;line-height: 1.2em;}#sk-container-id-1 div.sk-label-container {text-align: center;}#sk-container-id-1 div.sk-container {/* jupyter's `normalize.less` sets `[hidden] { display: none; }` but bootstrap.min.css set `[hidden] { display: none !important; }` so we also need the `!important` here to be able to override the default hidden behavior on the sphinx rendered scikit-learn.org. See: https://github.com/scikit-learn/scikit-learn/issues/21755 */display: inline-block !important;position: relative;}#sk-container-id-1 div.sk-text-repr-fallback {display: none;}</style><div id=\"sk-container-id-1\" class=\"sk-top-container\"><div class=\"sk-text-repr-fallback\"><pre>RandomForestRegressor()</pre><b>In a Jupyter environment, please rerun this cell to show the HTML representation or trust the notebook. <br />On GitHub, the HTML representation is unable to render, please try loading this page with nbviewer.org.</b></div><div class=\"sk-container\" hidden><div class=\"sk-item\"><div class=\"sk-estimator sk-toggleable\"><input class=\"sk-toggleable__control sk-hidden--visually\" id=\"sk-estimator-id-1\" type=\"checkbox\" checked><label for=\"sk-estimator-id-1\" class=\"sk-toggleable__label sk-toggleable__label-arrow\">RandomForestRegressor</label><div class=\"sk-toggleable__content\"><pre>RandomForestRegressor()</pre></div></div></div></div></div>"
      ],
      "text/plain": [
       "RandomForestRegressor()"
      ]
     },
     "execution_count": 18,
     "metadata": {},
     "output_type": "execute_result"
    }
   ],
   "source": [
    "# Model training\n",
    "reg_model.fit(X_train, y_train)\n",
    "rf_model.fit(X_train, y_train)"
   ]
  },
  {
   "cell_type": "code",
   "execution_count": 19,
   "id": "ff5ea73e",
   "metadata": {},
   "outputs": [],
   "source": [
    "# Prediction.\n",
    "y_pred_reg = reg_model.predict(X_test)\n",
    "y_pred_rf  = rf_model.predict(X_test)"
   ]
  },
  {
   "cell_type": "code",
   "execution_count": 20,
   "id": "9e05dc71",
   "metadata": {},
   "outputs": [
    {
     "data": {
      "text/plain": [
       "array([[-0.34877272, -0.24756873],\n",
       "       [-0.86088426, -0.59433239],\n",
       "       [-0.71137261, -0.418602  ],\n",
       "       [-0.69745359, -0.58619278],\n",
       "       [-0.65705472, -0.54237291],\n",
       "       [-0.53592003, -0.24570153],\n",
       "       [-0.18555378, -0.11414116],\n",
       "       [-0.65747816, -0.29179698],\n",
       "       [-0.74176215, -0.43012586],\n",
       "       [-0.66595191, -0.57108047],\n",
       "       [-0.51241511, -0.13042038],\n",
       "       [-0.63153723, -0.2946269 ],\n",
       "       [-0.1540521 , -0.09902885],\n",
       "       [-0.24945757, -0.27324218],\n",
       "       [-0.43994132, -0.28214032],\n",
       "       [-0.47234343, -0.42612903],\n",
       "       [-0.79364402, -0.42446603],\n",
       "       [-0.4375053 , -0.40025139],\n",
       "       [-0.69189285, -0.56825055],\n",
       "       [-0.79899304, -0.56769621],\n",
       "       [-0.65392999, -0.40631961],\n",
       "       [-0.32860425, -0.14305291],\n",
       "       [-0.79788089, -0.56410777],\n",
       "       [-0.47456773, -0.43330592],\n",
       "       [-0.83605547, -0.60075075],\n",
       "       [-0.71693336, -0.43654423],\n",
       "       [-0.46699441, -0.28289885],\n",
       "       [-0.41511254, -0.28855868],\n",
       "       [-0.31838319, -0.23604487],\n",
       "       [-0.54481722, -0.27440909],\n",
       "       [-0.71227304, -0.54747841],\n",
       "       [-0.39007202, -0.42026501],\n",
       "       [-0.69522929, -0.57901589],\n",
       "       [-0.26560089, -0.11282829],\n",
       "       [-0.58166793, -0.43275159],\n",
       "       [-0.68988027, -0.4357857 ],\n",
       "       [-0.69432887, -0.45013948],\n",
       "       [-0.58278008, -0.43634003],\n",
       "       [-0.10439452, -0.11186557],\n",
       "       [-0.43104413, -0.25343276],\n",
       "       [-0.74043827, -0.55182538],\n",
       "       [-0.5785432 , -0.29669829],\n",
       "       [-0.7384257 , -0.41936053],\n",
       "       [-0.58891405, -0.24363014],\n",
       "       [-0.19222667, -0.13567183],\n",
       "       [-0.28709323, -0.0956446 ],\n",
       "       [-0.94426782, -0.60378486],\n",
       "       [-0.25390617, -0.28759596],\n",
       "       [-0.68209523, -0.41066658],\n",
       "       [-0.3891716 , -0.2913886 ],\n",
       "       [-0.54995452, -0.54292724],\n",
       "       [-0.2913301 , -0.23528634],\n",
       "       [-0.37492538, -0.11945085],\n",
       "       [-0.64112312, -0.57749883],\n",
       "       [-0.89238594, -0.60944469],\n",
       "       [-0.47201624, -0.08660051],\n",
       "       [-0.39752987, -0.1058556 ],\n",
       "       [-0.79030757, -0.41370069],\n",
       "       [-0.48091343, -0.11530807],\n",
       "       [-0.46789484, -0.41177525],\n",
       "       [-0.43326843, -0.26060965],\n",
       "       [-0.47901633, -0.4476597 ],\n",
       "       [-0.65059354, -0.39555427],\n",
       "       [-0.57075816, -0.27157918],\n",
       "       [-0.46032151, -0.26136817],\n",
       "       [-0.45163604, -0.10737265],\n",
       "       [-0.56218816, -0.58240014],\n",
       "       [-0.80789024, -0.59640378],\n",
       "       [-0.72228238, -0.57977441],\n",
       "       [-0.41400039, -0.28497024],\n",
       "       [-0.50907867, -0.11965504],\n",
       "       [-0.50240577, -0.09812437],\n",
       "       [-0.70079004, -0.59695811],\n",
       "       [-0.42881983, -0.24625587],\n",
       "       [-0.27116163, -0.13077052],\n",
       "       [-0.71560948, -0.55824374],\n",
       "       [-0.78083715, -0.59564525],\n",
       "       [-0.64557172, -0.59185261],\n",
       "       [-0.72895527, -0.60130508],\n",
       "       [-0.65636601, -0.28820854],\n",
       "       [-0.88126445, -0.57356024],\n",
       "       [-0.51130296, -0.12683193],\n",
       "       [-0.47033086, -0.29366418],\n",
       "       [-0.38027441, -0.26268104],\n",
       "       [-0.78474683, -0.39575847],\n",
       "       [-0.54794194, -0.41046239],\n",
       "       [-0.66505148, -0.44220406],\n",
       "       [-0.71915766, -0.44372112],\n",
       "       [-0.6748491 , -0.59978803],\n",
       "       [-0.36380389, -0.0835664 ],\n",
       "       [-0.34543627, -0.23680339],\n",
       "       [-0.31080987, -0.08563779],\n",
       "       [-0.17999303, -0.09619893],\n",
       "       [-0.32505608, -0.25757554],\n",
       "       [-0.23722393, -0.23376928],\n",
       "       [-0.61629433, -0.58391719],\n",
       "       [-0.35322132, -0.26192251],\n",
       "       [-0.53735937, -0.5888185 ],\n",
       "       [-0.55260227, -0.29952821],\n",
       "       [-0.47144301, -0.29725263],\n",
       "       [-0.55551527, -0.56086947],\n",
       "       [-0.51776413, -0.27365057],\n",
       "       [-0.80365336, -0.45676203],\n",
       "       [-0.27449808, -0.14153586],\n",
       "       [-0.46365796, -0.27213351],\n",
       "       [-0.63264938, -0.29821535],\n",
       "       [-0.89127379, -0.60585625],\n",
       "       [-0.23076276, -0.08695065],\n",
       "       [-0.71804551, -0.44013267],\n",
       "       [-0.48536203, -0.12966185],\n",
       "       [-0.54069582, -0.59958384],\n",
       "       [-0.6841078 , -0.54313143],\n",
       "       [-0.65970246, -0.29897387],\n",
       "       [-0.15516425, -0.10261729],\n",
       "       [-0.75378406, -0.59488672],\n",
       "       [-0.28264463, -0.08129082],\n",
       "       [-0.60872101, -0.43351012],\n",
       "       [-0.76436663, -0.41653061],\n",
       "       [-0.64948139, -0.39196583],\n",
       "       [-0.39085698, -0.08432493],\n",
       "       [-0.64413237, -0.24873564],\n",
       "       [-0.58034405, -0.5544511 ],\n",
       "       [-0.61073359, -0.56597497],\n",
       "       [-0.39674492, -0.44179568],\n",
       "       [-0.56630956, -0.25722539],\n",
       "       [-0.56663676, -0.59675392],\n",
       "       [-0.57721933, -0.41839781],\n",
       "       [-0.18444163, -0.11055271],\n",
       "       [-0.84976277, -0.55844793],\n",
       "       [-0.72138195, -0.45089801],\n",
       "       [-0.76881523, -0.43088439],\n",
       "       [-0.53513507, -0.58164161],\n",
       "       [-0.66039116, -0.55313824],\n",
       "       [-0.93537062, -0.5750773 ],\n",
       "       [-0.2452207 , -0.13360044],\n",
       "       [-0.93759492, -0.58225419],\n",
       "       [-0.37248936, -0.23756192],\n",
       "       [-0.64001097, -0.57391039],\n",
       "       [-0.49049932, -0.39818   ],\n",
       "       [-0.16517359, -0.1349133 ],\n",
       "       [-0.90942969, -0.57790722],\n",
       "       [-0.59368984, -0.59751245],\n",
       "       [-0.17776873, -0.08902204],\n",
       "       [-0.93314632, -0.56790041],\n",
       "       [-0.384723  , -0.27703482],\n",
       "       [-0.83049472, -0.58280852],\n",
       "       [-0.61295789, -0.57315186],\n",
       "       [-0.82715828, -0.57204319],\n",
       "       [-0.53703218, -0.24928998],\n",
       "       [-0.61740648, -0.58750564],\n",
       "       [-0.21149472, -0.11131124],\n",
       "       [-0.93092203, -0.56072352],\n",
       "       [-0.61407003, -0.5767403 ],\n",
       "       [-0.60517284, -0.54803274],\n",
       "       [-0.34766057, -0.24398028],\n",
       "       [-0.56742171, -0.26081384],\n",
       "       [-0.67987093, -0.40348969],\n",
       "       [-0.59146555, -0.59033556],\n",
       "       [-0.61518218, -0.58032875],\n",
       "       [-0.15071565, -0.08826351],\n",
       "       [-0.11217956, -0.13698469],\n",
       "       [-0.77638855, -0.58129147],\n",
       "       [-0.53624722, -0.58523006],\n",
       "       [-0.26226444, -0.10206296],\n",
       "       [-0.47535268, -0.09736584],\n",
       "       [-0.21483116, -0.12207658],\n",
       "       [-0.48313773, -0.12248496],\n",
       "       [-0.31414632, -0.09640312],\n",
       "       [-0.55106667, -0.54651569],\n",
       "       [-0.52290143, -0.54216871],\n",
       "       [-0.91054183, -0.58149566],\n",
       "       [-0.71783378, -0.56542063],\n",
       "       [-0.10105807, -0.10110024],\n",
       "       [-0.24167253, -0.24812306],\n",
       "       [-0.18777808, -0.12131805],\n",
       "       [-0.82382183, -0.56127785],\n",
       "       [-0.37916226, -0.25909259],\n",
       "       [-0.42993198, -0.24984431],\n",
       "       [-0.53814433, -0.25287842],\n",
       "       [-0.80455379, -0.58563844],\n",
       "       [-0.60427242, -0.41915633],\n",
       "       [-0.40420277, -0.12738627],\n",
       "       [-0.79454444, -0.55334243],\n",
       "       [-0.29466655, -0.24605167],\n",
       "       [-0.46275754, -0.1432571 ],\n",
       "       [-0.54259292, -0.2672322 ],\n",
       "       [-0.66081461, -0.30256232],\n",
       "       [-0.2798471 , -0.28476604],\n",
       "       [-0.47011913, -0.41895214],\n",
       "       [-0.58722867, -0.45069381],\n",
       "       [-0.50495726, -0.44482979],\n",
       "       [-0.64334742, -0.58467572],\n",
       "       [-0.4368166 , -0.14608702],\n",
       "       [-0.31727104, -0.23245642],\n",
       "       [-0.35766992, -0.27627629],\n",
       "       [-0.42548338, -0.23549053],\n",
       "       [-0.54704152, -0.28158598],\n",
       "       [-0.45920937, -0.25777973],\n",
       "       [-0.56107601, -0.57881169],\n",
       "       [-0.80232949, -0.57846155],\n",
       "       [-0.94204352, -0.59660797],\n",
       "       [-0.61819144, -0.25156556],\n",
       "       [-0.69634144, -0.58260433],\n",
       "       [-0.57811975, -0.54727421],\n",
       "       [-0.73932612, -0.54823693],\n",
       "       [-0.54036862, -0.26005531],\n",
       "       [-0.31748276, -0.10716846],\n",
       "       [-0.29599042, -0.12435216],\n",
       "       [-0.22853846, -0.07977376],\n",
       "       [-0.51887628, -0.27723901]])"
      ]
     },
     "execution_count": 20,
     "metadata": {},
     "output_type": "execute_result"
    }
   ],
   "source": [
    "# Prediction for Regression Model\n",
    "y_pred_reg"
   ]
  },
  {
   "cell_type": "code",
   "execution_count": 21,
   "id": "1c54e4ff",
   "metadata": {},
   "outputs": [
    {
     "data": {
      "text/plain": [
       "array([[-0.93577654, -0.51454023],\n",
       "       [-0.99517621, -0.99787356],\n",
       "       [-0.32456142, -0.14666667],\n",
       "       [-0.99676598, -0.88142019],\n",
       "       [-0.9902846 , -0.97465333],\n",
       "       [-0.85805225, -0.26028736],\n",
       "       [-0.61887938, -0.2166092 ],\n",
       "       [-0.82690828, -0.61586207],\n",
       "       [-0.45939633,  0.19781609],\n",
       "       [-0.99740967, -0.99971264],\n",
       "       [-0.67236131, -0.25827586],\n",
       "       [-0.72340856, -0.47729885],\n",
       "       [-0.56687493, -0.37224138],\n",
       "       [ 0.43646915, -0.31356322],\n",
       "       [-0.90897165, -0.72390805],\n",
       "       [-0.40600334,  0.22517241],\n",
       "       [-0.55611784,  0.05034483],\n",
       "       [-0.0191662 ,  0.40718391],\n",
       "       [-0.99656698, -1.        ],\n",
       "       [-0.97668482, -0.94174826],\n",
       "       [-0.18379322,  0.03281609],\n",
       "       [ 0.34900611, -0.13344828],\n",
       "       [-0.97632018, -0.94364482],\n",
       "       [-0.38441023,  0.25074713],\n",
       "       [-0.99625347, -0.95082688],\n",
       "       [-0.29425236, -0.12528736],\n",
       "       [ 0.33368872, -0.13798851],\n",
       "       [-0.18800556, -0.31591954],\n",
       "       [-0.78536854, -0.56494253],\n",
       "       [-0.84875264, -0.23534483],\n",
       "       [-0.99476709, -0.99833333],\n",
       "       [ 0.72600667, -0.17247126],\n",
       "       [-0.99655364, -0.99770115],\n",
       "       [-0.0549572 , -0.19264368],\n",
       "       [-0.55607004,  0.32057471],\n",
       "       [-0.72950862,  0.35902299],\n",
       "       [-0.70899833,  0.42637931],\n",
       "       [-0.54722735,  0.32655172],\n",
       "       [ 0.95647693, -0.06091954],\n",
       "       [-0.88582768, -0.6395977 ],\n",
       "       [-0.98083713, -0.99402299],\n",
       "       [-0.77179767, -0.73091954],\n",
       "       [-0.49023791,  0.16689655],\n",
       "       [-0.70134742, -0.31367816],\n",
       "       [-0.61155309, -0.21873563],\n",
       "       [-0.76236354, -0.24155172],\n",
       "       [-0.9891562 , -0.98304598],\n",
       "       [ 0.36979322, -0.34454023],\n",
       "       [-0.79318955,  0.07103448],\n",
       "       [-0.95821901, -0.88068966],\n",
       "       [-0.95105948, -0.88639422],\n",
       "       [-0.8609194 , -0.79741379],\n",
       "       [-0.2390428 , -0.02143678],\n",
       "       [-0.99984102, -0.34838573],\n",
       "       [-0.99590995, -0.95059699],\n",
       "       [-0.51256476, -0.14017241],\n",
       "       [-0.82416787, -0.08701149],\n",
       "       [-0.55983435,  0.04425287],\n",
       "       [-0.52496165, -0.13385057],\n",
       "       [-0.42456142,  0.20229885],\n",
       "       [-0.89382768, -0.6637931 ],\n",
       "       [-0.37387215,  0.26229885],\n",
       "       [-0.19541523,  0.01011494],\n",
       "       [-0.7614975 , -0.70465517],\n",
       "       [ 0.33503057, -0.12247126],\n",
       "       [-0.66340967, -0.22764368],\n",
       "       [-0.93350195, -0.97862069],\n",
       "       [-0.97997443, -0.98310345],\n",
       "       [-0.99890495, -0.99977011],\n",
       "       [-0.16850806, -0.29867816],\n",
       "       [-0.67846581, -0.2416092 ],\n",
       "       [-0.67933074, -0.23327586],\n",
       "       [-0.99650806, -0.97367447],\n",
       "       [-0.84664814, -0.51356322],\n",
       "       [-0.05661812, -0.20281609],\n",
       "       [-0.99842135, -0.99965517],\n",
       "       [-0.96683713, -0.99770115],\n",
       "       [-0.99987771, -0.34186182],\n",
       "       [-0.99858366, -1.        ],\n",
       "       [-0.81615675, -0.58574713],\n",
       "       [-0.9971184 , -1.        ],\n",
       "       [-0.67519956, -0.2437931 ],\n",
       "       [ 0.29693719, -0.16287356],\n",
       "       [-0.92483602, -0.78287356],\n",
       "       [-0.55466148,  0.07758621],\n",
       "       [ 0.2710428 ,  0.06557471],\n",
       "       [-0.10864147,  0.12350575],\n",
       "       [-0.26333741, -0.10701149],\n",
       "       [-0.99763535, -0.98683724],\n",
       "       [-0.17687715,  0.0333908 ],\n",
       "       [-0.93646026, -0.52195402],\n",
       "       [ 0.46919177, -0.05557471],\n",
       "       [-0.62417121, -0.22362069],\n",
       "       [-0.87226459, -0.74954023],\n",
       "       [ 0.76752863, -0.18385057],\n",
       "       [-0.99736409, -0.99908046],\n",
       "       [-0.93579099, -0.50103448],\n",
       "       [-0.98874597, -0.99931034],\n",
       "       [-0.84583324, -0.24390805],\n",
       "       [ 0.29693719, -0.16287356],\n",
       "       [-0.92616231, -0.97666667],\n",
       "       [-0.33851251, -0.15155172],\n",
       "       [-0.47777321,  0.15298851],\n",
       "       [-0.09998221, -0.24051724],\n",
       "       [ 0.29832574, -0.15402299],\n",
       "       [-0.73593107, -0.49977011],\n",
       "       [-0.9943602 , -0.9945977 ],\n",
       "       [-0.75899055, -0.32793103],\n",
       "       [-0.27256921, -0.11402299],\n",
       "       [-0.52185881, -0.13321839],\n",
       "       [-0.96997665, -0.83285144],\n",
       "       [-0.98423791, -0.99212644],\n",
       "       [-0.82972651, -0.62344828],\n",
       "       [-0.56551417, -0.3495977 ],\n",
       "       [-0.99143191, -1.        ],\n",
       "       [-0.75685047, -0.22229885],\n",
       "       [ 0.7053552 ,  0.10747126],\n",
       "       [-0.26850806,  0.32385057],\n",
       "       [-0.19541523,  0.01011494],\n",
       "       [-0.81278599, -0.09028736],\n",
       "       [-0.73317954, -0.36229885],\n",
       "       [-0.99534964, -0.9787616 ],\n",
       "       [-0.99513508, -0.99482759],\n",
       "       [ 0.74361757, -0.16385057],\n",
       "       [-0.72799222, -0.66195402],\n",
       "       [-0.93750195, -0.95206528],\n",
       "       [-0.58511173,  0.33189655],\n",
       "       [-0.62891606, -0.22626437],\n",
       "       [-0.99402557, -0.92042089],\n",
       "       [-0.24764869, -0.09252874],\n",
       "       [-0.2917443 ,  0.28913793],\n",
       "       [-0.99058032, -0.99954023],\n",
       "       [-0.99379433, -0.97723954],\n",
       "       [-0.99371984, -0.9912069 ],\n",
       "       [-0.81224569, -0.4516092 ],\n",
       "       [-0.99184547, -0.98551724],\n",
       "       [-0.89567538, -0.71155172],\n",
       "       [-0.99984102, -0.34838573],\n",
       "       [-0.82897832,  0.29482759],\n",
       "       [-0.55720511, -0.33212644],\n",
       "       [-0.99684825, -1.        ],\n",
       "       [-0.99727182, -0.92622549],\n",
       "       [-0.61188883, -0.20505747],\n",
       "       [-0.99790661, -0.99890805],\n",
       "       [-0.95914508, -0.88511494],\n",
       "       [-0.99951973, -1.        ],\n",
       "       [-0.99541968, -0.99545977],\n",
       "       [-0.99947526, -0.87495375],\n",
       "       [-0.85220233, -0.23511494],\n",
       "       [-0.99738966, -0.99913793],\n",
       "       [-0.91027015, -0.29551724],\n",
       "       [-0.99660367, -0.98292919],\n",
       "       [-0.99580878, -0.99614943],\n",
       "       [-0.99229794, -0.94010757],\n",
       "       [-0.936796  , -0.52482759],\n",
       "       [-0.75530739, -0.69574713],\n",
       "       [-0.79199666,  0.07988506],\n",
       "       [-0.99703724, -0.99977011],\n",
       "       [-0.99704169, -0.99867816],\n",
       "       [-0.55969761, -0.37994253],\n",
       "       [ 0.90292273, -0.08816092],\n",
       "       [-0.9558766 , -0.99442529],\n",
       "       [-0.98980322, -0.99954023],\n",
       "       [-0.03900611, -0.19086207],\n",
       "       [-0.51364536, -0.13316092],\n",
       "       [-0.90709394, -0.27724138],\n",
       "       [-0.52138299, -0.12896552],\n",
       "       [ 0.47444914, -0.04695402],\n",
       "       [-0.9448527 , -0.96209494],\n",
       "       [-0.98551195, -0.89909537],\n",
       "       [-0.996995  , -1.        ],\n",
       "       [-0.99823235, -0.99982759],\n",
       "       [ 0.98618455, -0.04505747],\n",
       "       [ 0.64337632, -0.22770115],\n",
       "       [-0.61338633, -0.21189655],\n",
       "       [-0.99889605, -0.47938119],\n",
       "       [-0.90815564, -0.73764368],\n",
       "       [-0.87191773, -0.59545977],\n",
       "       [-0.84958755, -0.22201149],\n",
       "       [-0.97842913, -0.97804598],\n",
       "       [ 0.65517732,  0.09178161],\n",
       "       [-0.85895942, -0.29545977],\n",
       "       [-0.97454141, -0.93516688],\n",
       "       [-0.8964547 , -0.85270115],\n",
       "       [-0.63082601, -0.23298851],\n",
       "       [-0.84588883, -0.20718391],\n",
       "       [-0.82606115, -0.61862069],\n",
       "       [ 0.80092829, -0.25902299],\n",
       "       [-0.41278933,  0.22942529],\n",
       "       [-0.5401134 ,  0.33465517],\n",
       "       [-0.8156209 ,  0.43310345],\n",
       "       [-0.99983546, -0.34838573],\n",
       "       [-0.38149305, -0.25695402],\n",
       "       [-0.78741968, -0.57218391],\n",
       "       [-0.93589994, -0.50247126],\n",
       "       [-0.84188549, -0.49890805],\n",
       "       [-0.84849472, -0.24132184],\n",
       "       [ 0.44357421, -0.06752874],\n",
       "       [-0.96706837, -0.99091954],\n",
       "       [-0.97876376, -0.97816092],\n",
       "       [-0.99133185, -0.98494253],\n",
       "       [-0.62527293, -0.31936782],\n",
       "       [-0.99670484, -0.92725997],\n",
       "       [-0.99582324, -0.59051755],\n",
       "       [-0.97862479, -0.99126437],\n",
       "       [-0.84449583, -0.19442529],\n",
       "       [ 0.42084047, -0.06517241],\n",
       "       [-0.74395887, -0.20925287],\n",
       "       [-0.75383769, -0.31758621],\n",
       "       [-0.34481156, -0.16195402]])"
      ]
     },
     "execution_count": 21,
     "metadata": {},
     "output_type": "execute_result"
    }
   ],
   "source": [
    "# Prediction for Ramdom Forest  Model\n",
    "y_pred_rf"
   ]
  },
  {
   "cell_type": "code",
   "execution_count": 22,
   "id": "4e6a3f0c",
   "metadata": {},
   "outputs": [
    {
     "name": "stdout",
     "output_type": "stream",
     "text": [
      "Mean Squared Error for Regression Model :  0.1724613677779348\n",
      "Mean Squared Error for Random Forest Model :  0.0022456582824966352\n"
     ]
    }
   ],
   "source": [
    "# Calculate MSE for Linear Regression and Random Forest\n",
    "mse_reg = mean_squared_error(y_test, y_pred_reg)\n",
    "mse_rf  = mean_squared_error(y_test, y_pred_rf)\n",
    "print('Mean Squared Error for Regression Model : ', mse_reg)\n",
    "print('Mean Squared Error for Random Forest Model : ', mse_rf)"
   ]
  },
  {
   "cell_type": "markdown",
   "id": "97b74e1b",
   "metadata": {},
   "source": [
    "**Mean Squared Error for 'Random Forest Model' is very low, Means it will perform better.**"
   ]
  },
  {
   "cell_type": "code",
   "execution_count": 23,
   "id": "d9c79457",
   "metadata": {},
   "outputs": [
    {
     "name": "stdout",
     "output_type": "stream",
     "text": [
      "Regression Model Score :  0.194\n",
      "Random Forest Model Score :  0.988\n"
     ]
    }
   ],
   "source": [
    "# Model Score \n",
    "reg_model_score = reg_model.score(X_test,y_test)\n",
    "rf_model_score = rf_model.score(X_test,y_test)\n",
    "print('Regression Model Score : ', round(reg_model_score,3))\n",
    "print('Random Forest Model Score : ', round(rf_model_score,3))"
   ]
  },
  {
   "cell_type": "markdown",
   "id": "96a63277",
   "metadata": {},
   "source": [
    "**A higher model score indicates better predictive performance, so the Random Forest Model is considered as better fit.**"
   ]
  },
  {
   "cell_type": "markdown",
   "id": "c0c4a37d",
   "metadata": {},
   "source": [
    "## Cross-Validation"
   ]
  },
  {
   "cell_type": "code",
   "execution_count": 24,
   "id": "b3f464ee",
   "metadata": {
    "scrolled": false
   },
   "outputs": [
    {
     "name": "stdout",
     "output_type": "stream",
     "text": [
      "Cross-Validation Scores for Random Forest Model:\n",
      "Fold 1: R-squared Score = 0.978\n",
      "Fold 2: R-squared Score = 0.990\n",
      "Fold 3: R-squared Score = 0.982\n",
      "Fold 4: R-squared Score = 0.996\n",
      "Fold 5: R-squared Score = 0.989\n",
      "Mean Cross-Validation Score: 0.987\n"
     ]
    }
   ],
   "source": [
    "# Calculate cross-validation scores\n",
    "cross_val_scores = cross_val_score(rf_model, X_train, y_train, cv=5, scoring='r2')\n",
    "\n",
    "# Print the cross-validation scores\n",
    "print(\"Cross-Validation Scores for Random Forest Model:\")\n",
    "for fold, score in enumerate(cross_val_scores, start=1):\n",
    "    print(f\"Fold {fold}: R-squared Score = {score:.3f}\")\n",
    "\n",
    "# Calculate and print the mean score\n",
    "mean_score = cross_val_scores.mean()\n",
    "print(f\"Mean Cross-Validation Score: {mean_score:.3f}\")"
   ]
  },
  {
   "cell_type": "markdown",
   "id": "192e6668",
   "metadata": {},
   "source": [
    "## Hyperparameter Tuning"
   ]
  },
  {
   "cell_type": "code",
   "execution_count": 29,
   "id": "9c0443ca",
   "metadata": {},
   "outputs": [],
   "source": [
    "# Define the hyperparameters and their possible values to search\n",
    "param_grid = {\n",
    "    'n_estimators': [100, 200, 300],           \n",
    "    'max_depth': [None, 10, 20, 30],         \n",
    "    'min_samples_split': [2, 5, 10],         \n",
    "    'min_samples_leaf': [1, 2, 4]}\n",
    "    \n",
    "# Create the GridSearchCV object.\n",
    "grid_search = GridSearchCV(rf_model, param_grid, cv=5, scoring='neg_mean_squared_error')"
   ]
  },
  {
   "cell_type": "code",
   "execution_count": 30,
   "id": "6e4857ae",
   "metadata": {
    "scrolled": true
   },
   "outputs": [],
   "source": [
    "# Fit the grid search on training dataset.\n",
    "final_model = grid_search.fit(X_train, y_train)"
   ]
  },
  {
   "cell_type": "code",
   "execution_count": 31,
   "id": "ee66ba60",
   "metadata": {},
   "outputs": [
    {
     "name": "stdout",
     "output_type": "stream",
     "text": [
      "Best Hyperparameters: {'max_depth': 30, 'min_samples_leaf': 1, 'min_samples_split': 2, 'n_estimators': 300}\n",
      "Best R-squared Score: -0.0027416951430900074\n"
     ]
    }
   ],
   "source": [
    "# Print the best hyperparameters and the corresponding R-squared score\n",
    "print(\"Best Hyperparameters:\", grid_search.best_params_)\n",
    "print(\"Best R-squared Score:\", grid_search.best_score_)"
   ]
  },
  {
   "cell_type": "code",
   "execution_count": 32,
   "id": "e34de624",
   "metadata": {},
   "outputs": [],
   "source": [
    "# Prediction after Fine Tuning\n",
    "y_pred_fine_tune = final_model.predict(X_test)"
   ]
  },
  {
   "cell_type": "markdown",
   "id": "808e64ff",
   "metadata": {},
   "source": [
    "## Conclusion:\n",
    "- Model Performance: Two models were trained on the data – the Linear Regression Model and the Random Forest Regression Model. Their performance scores were as follows:\n",
    "\n",
    "         Regression Model Score: 19 %\n",
    "         Random Forest Model Score: 99 %\n",
    "      \n",
    "- Cross-Validation: The Random Forest Model underwent cross-validation, assessing its consistency across different data subsets. Average Cross-Validation Score is 0.987. This underscores the model's robustness and its capacity to generalize effectively to new data.\n",
    "\n",
    "- Fine Tuning: To enhance the Random Forest Model's performance, a grid search was conducted to fine-tune its hyperparameters. This optimization process, guided by negative mean squared error, aims to enhance the model's accuracy and predictive power.\n",
    "\n",
    "The Random Forest Regression Model is a suitable choice for predicting the output, based on the provided features. It has demonstrated excellent performance, generalization capabilities and potential for further improvement through hyperparameter tuning."
   ]
  }
 ],
 "metadata": {
  "kernelspec": {
   "display_name": "Python 3 (ipykernel)",
   "language": "python",
   "name": "python3"
  },
  "language_info": {
   "codemirror_mode": {
    "name": "ipython",
    "version": 3
   },
   "file_extension": ".py",
   "mimetype": "text/x-python",
   "name": "python",
   "nbconvert_exporter": "python",
   "pygments_lexer": "ipython3",
   "version": "3.9.7"
  }
 },
 "nbformat": 4,
 "nbformat_minor": 5
}
