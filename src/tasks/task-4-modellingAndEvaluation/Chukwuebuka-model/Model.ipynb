{
 "cells": [
  {
   "cell_type": "code",
   "execution_count": 1,
   "id": "bba86de3-5f7b-43f4-9d9d-434fe28de846",
   "metadata": {
    "editable": true,
    "slideshow": {
     "slide_type": ""
    },
    "tags": []
   },
   "outputs": [],
   "source": [
    "import pandas as pd\n",
    "import numpy as np"
   ]
  },
  {
   "cell_type": "code",
   "execution_count": 2,
   "id": "ed7be234-cea4-4b5a-b30c-f63b672e14f5",
   "metadata": {
    "tags": []
   },
   "outputs": [],
   "source": [
    "df = pd.read_csv('Processed_DatasetsAmount-of Waste-Generated-By-State 32121-0003.csv')"
   ]
  },
  {
   "cell_type": "code",
   "execution_count": 3,
   "id": "b00c4dfc-3768-4f07-a562-54b3cd6ed832",
   "metadata": {
    "scrolled": true,
    "tags": []
   },
   "outputs": [
    {
     "data": {
      "text/html": [
       "<div>\n",
       "<style scoped>\n",
       "    .dataframe tbody tr th:only-of-type {\n",
       "        vertical-align: middle;\n",
       "    }\n",
       "\n",
       "    .dataframe tbody tr th {\n",
       "        vertical-align: top;\n",
       "    }\n",
       "\n",
       "    .dataframe thead th {\n",
       "        text-align: right;\n",
       "    }\n",
       "</style>\n",
       "<table border=\"1\" class=\"dataframe\">\n",
       "  <thead>\n",
       "    <tr style=\"text-align: right;\">\n",
       "      <th></th>\n",
       "      <th>Year</th>\n",
       "      <th>States</th>\n",
       "      <th>Types of Waste</th>\n",
       "      <th>Total Household Waste Generated (Tons)</th>\n",
       "      <th>Household Waste Generated per Inhabitant (kg)</th>\n",
       "    </tr>\n",
       "  </thead>\n",
       "  <tbody>\n",
       "    <tr>\n",
       "      <th>0</th>\n",
       "      <td>2004</td>\n",
       "      <td>Baden-Württemberg</td>\n",
       "      <td>Residual household and bulky wastes</td>\n",
       "      <td>1605.6</td>\n",
       "      <td>150.0</td>\n",
       "    </tr>\n",
       "    <tr>\n",
       "      <th>1</th>\n",
       "      <td>2004</td>\n",
       "      <td>Baden-Württemberg</td>\n",
       "      <td>Separately collected organic wastes</td>\n",
       "      <td>1220.5</td>\n",
       "      <td>114.0</td>\n",
       "    </tr>\n",
       "    <tr>\n",
       "      <th>2</th>\n",
       "      <td>2004</td>\n",
       "      <td>Baden-Württemberg</td>\n",
       "      <td>Separately collected recyclables</td>\n",
       "      <td>1645.3</td>\n",
       "      <td>154.0</td>\n",
       "    </tr>\n",
       "    <tr>\n",
       "      <th>3</th>\n",
       "      <td>2004</td>\n",
       "      <td>Baden-Württemberg</td>\n",
       "      <td>Other wastes</td>\n",
       "      <td>9.4</td>\n",
       "      <td>1.0</td>\n",
       "    </tr>\n",
       "    <tr>\n",
       "      <th>4</th>\n",
       "      <td>2004</td>\n",
       "      <td>Bayern</td>\n",
       "      <td>Separately collected organic wastes</td>\n",
       "      <td>1677.3</td>\n",
       "      <td>135.0</td>\n",
       "    </tr>\n",
       "  </tbody>\n",
       "</table>\n",
       "</div>"
      ],
      "text/plain": [
       "   Year             States                       Types of Waste  \\\n",
       "0  2004  Baden-Württemberg  Residual household and bulky wastes   \n",
       "1  2004  Baden-Württemberg  Separately collected organic wastes   \n",
       "2  2004  Baden-Württemberg     Separately collected recyclables   \n",
       "3  2004  Baden-Württemberg                         Other wastes   \n",
       "4  2004             Bayern  Separately collected organic wastes   \n",
       "\n",
       "   Total Household Waste Generated (Tons)  \\\n",
       "0                                  1605.6   \n",
       "1                                  1220.5   \n",
       "2                                  1645.3   \n",
       "3                                     9.4   \n",
       "4                                  1677.3   \n",
       "\n",
       "   Household Waste Generated per Inhabitant (kg)  \n",
       "0                                          150.0  \n",
       "1                                          114.0  \n",
       "2                                          154.0  \n",
       "3                                            1.0  \n",
       "4                                          135.0  "
      ]
     },
     "execution_count": 3,
     "metadata": {},
     "output_type": "execute_result"
    }
   ],
   "source": [
    "df.head()"
   ]
  },
  {
   "cell_type": "code",
   "execution_count": 4,
   "id": "03930d8b-67f4-461c-ba3d-7c3d6aebce43",
   "metadata": {
    "scrolled": true,
    "tags": []
   },
   "outputs": [
    {
     "name": "stdout",
     "output_type": "stream",
     "text": [
      "<class 'pandas.core.frame.DataFrame'>\n",
      "RangeIndex: 1046 entries, 0 to 1045\n",
      "Data columns (total 5 columns):\n",
      " #   Column                                         Non-Null Count  Dtype  \n",
      "---  ------                                         --------------  -----  \n",
      " 0   Year                                           1046 non-null   int64  \n",
      " 1   States                                         1046 non-null   object \n",
      " 2   Types of Waste                                 1046 non-null   object \n",
      " 3   Total Household Waste Generated (Tons)         1046 non-null   float64\n",
      " 4   Household Waste Generated per Inhabitant (kg)  1046 non-null   float64\n",
      "dtypes: float64(2), int64(1), object(2)\n",
      "memory usage: 41.0+ KB\n"
     ]
    }
   ],
   "source": [
    "df.info()"
   ]
  },
  {
   "cell_type": "code",
   "execution_count": 5,
   "id": "28385236-8f81-4a37-ae42-bf3f85100373",
   "metadata": {
    "scrolled": true,
    "tags": []
   },
   "outputs": [
    {
     "data": {
      "text/html": [
       "<div>\n",
       "<style scoped>\n",
       "    .dataframe tbody tr th:only-of-type {\n",
       "        vertical-align: middle;\n",
       "    }\n",
       "\n",
       "    .dataframe tbody tr th {\n",
       "        vertical-align: top;\n",
       "    }\n",
       "\n",
       "    .dataframe thead th {\n",
       "        text-align: right;\n",
       "    }\n",
       "</style>\n",
       "<table border=\"1\" class=\"dataframe\">\n",
       "  <thead>\n",
       "    <tr style=\"text-align: right;\">\n",
       "      <th></th>\n",
       "      <th>Year</th>\n",
       "      <th>Total Household Waste Generated (Tons)</th>\n",
       "      <th>Household Waste Generated per Inhabitant (kg)</th>\n",
       "    </tr>\n",
       "  </thead>\n",
       "  <tbody>\n",
       "    <tr>\n",
       "      <th>count</th>\n",
       "      <td>1046.000000</td>\n",
       "      <td>1046.000000</td>\n",
       "      <td>1046.000000</td>\n",
       "    </tr>\n",
       "    <tr>\n",
       "      <th>mean</th>\n",
       "      <td>2012.451243</td>\n",
       "      <td>405.893881</td>\n",
       "      <td>110.816904</td>\n",
       "    </tr>\n",
       "    <tr>\n",
       "      <th>std</th>\n",
       "      <td>5.181030</td>\n",
       "      <td>462.755575</td>\n",
       "      <td>80.167121</td>\n",
       "    </tr>\n",
       "    <tr>\n",
       "      <th>min</th>\n",
       "      <td>2004.000000</td>\n",
       "      <td>0.100000</td>\n",
       "      <td>1.000000</td>\n",
       "    </tr>\n",
       "    <tr>\n",
       "      <th>25%</th>\n",
       "      <td>2008.000000</td>\n",
       "      <td>29.400000</td>\n",
       "      <td>21.000000</td>\n",
       "    </tr>\n",
       "    <tr>\n",
       "      <th>50%</th>\n",
       "      <td>2012.000000</td>\n",
       "      <td>230.300000</td>\n",
       "      <td>125.000000</td>\n",
       "    </tr>\n",
       "    <tr>\n",
       "      <th>75%</th>\n",
       "      <td>2017.000000</td>\n",
       "      <td>613.750000</td>\n",
       "      <td>163.000000</td>\n",
       "    </tr>\n",
       "    <tr>\n",
       "      <th>max</th>\n",
       "      <td>2021.000000</td>\n",
       "      <td>1799.100000</td>\n",
       "      <td>349.000000</td>\n",
       "    </tr>\n",
       "  </tbody>\n",
       "</table>\n",
       "</div>"
      ],
      "text/plain": [
       "              Year  Total Household Waste Generated (Tons)  \\\n",
       "count  1046.000000                             1046.000000   \n",
       "mean   2012.451243                              405.893881   \n",
       "std       5.181030                              462.755575   \n",
       "min    2004.000000                                0.100000   \n",
       "25%    2008.000000                               29.400000   \n",
       "50%    2012.000000                              230.300000   \n",
       "75%    2017.000000                              613.750000   \n",
       "max    2021.000000                             1799.100000   \n",
       "\n",
       "       Household Waste Generated per Inhabitant (kg)  \n",
       "count                                    1046.000000  \n",
       "mean                                      110.816904  \n",
       "std                                        80.167121  \n",
       "min                                         1.000000  \n",
       "25%                                        21.000000  \n",
       "50%                                       125.000000  \n",
       "75%                                       163.000000  \n",
       "max                                       349.000000  "
      ]
     },
     "execution_count": 5,
     "metadata": {},
     "output_type": "execute_result"
    }
   ],
   "source": [
    "df.describe()"
   ]
  },
  {
   "cell_type": "code",
   "execution_count": 6,
   "id": "1db59779-a365-4544-be11-1232696e40ef",
   "metadata": {
    "tags": []
   },
   "outputs": [],
   "source": [
    "categorical_vars = df.select_dtypes(include=['object', 'category'])\n",
    "numerical_vars = df.select_dtypes(include=['int', 'float'])"
   ]
  },
  {
   "cell_type": "code",
   "execution_count": 7,
   "id": "6d158a04-9ded-4110-bc1c-132d2dc4747e",
   "metadata": {
    "tags": []
   },
   "outputs": [
    {
     "name": "stdout",
     "output_type": "stream",
     "text": [
      "Categorical Variables:\n",
      "Index(['States', 'Types of Waste'], dtype='object')\n",
      "\n",
      "Numerical Variables:\n",
      "Index(['Year', 'Total Household Waste Generated (Tons)',\n",
      "       'Household Waste Generated per Inhabitant (kg)'],\n",
      "      dtype='object')\n"
     ]
    }
   ],
   "source": [
    "print(\"Categorical Variables:\")\n",
    "print(categorical_vars.columns)\n",
    "\n",
    "print(\"\\nNumerical Variables:\")\n",
    "print(numerical_vars.columns)"
   ]
  },
  {
   "cell_type": "code",
   "execution_count": 8,
   "id": "ca15d105-a15a-4a8d-9cff-928e10282ebd",
   "metadata": {
    "scrolled": true,
    "tags": []
   },
   "outputs": [
    {
     "name": "stdout",
     "output_type": "stream",
     "text": [
      "Continuous Variables:\n",
      "['Total Household Waste Generated (Tons)', 'Household Waste Generated per Inhabitant (kg)']\n",
      "\n",
      "Discrete Variables:\n",
      "['Year']\n"
     ]
    }
   ],
   "source": [
    "# Identify continuous and discrete variables\n",
    "continuous_vars = []\n",
    "discrete_vars = []\n",
    "\n",
    "for column in df.columns:\n",
    "    if df[column].dtype == 'int64' or df[column].dtype == 'float64':\n",
    "        if len(df[column].unique()) > 20:\n",
    "            continuous_vars.append(column)\n",
    "        else:\n",
    "            discrete_vars.append(column)\n",
    "\n",
    "# Print the identified variables\n",
    "print(\"Continuous Variables:\")\n",
    "print(continuous_vars)\n",
    "\n",
    "print(\"\\nDiscrete Variables:\")\n",
    "print(discrete_vars)"
   ]
  },
  {
   "cell_type": "code",
   "execution_count": 9,
   "id": "39717066-9dde-460f-b884-6b0b70269ed0",
   "metadata": {},
   "outputs": [],
   "source": [
    "# Apply label encoding to the 'Types of Waste' column\n",
    "from sklearn.preprocessing import LabelEncoder\n",
    "label_encoder = LabelEncoder()\n",
    "df['Types of Waste'] = label_encoder.fit_transform(df['Types of Waste'])\n",
    "\n",
    "# Select the features and target variable\n",
    "X = df.drop(columns=['Total Household Waste Generated (Tons)'])\n",
    "y = df['Total Household Waste Generated (Tons)']\n"
   ]
  },
  {
   "cell_type": "code",
   "execution_count": 10,
   "id": "df9af3fe-b86e-4984-96c5-ac10e4800a75",
   "metadata": {},
   "outputs": [
    {
     "data": {
      "text/plain": [
       "array([1, 2, 3, 0])"
      ]
     },
     "execution_count": 10,
     "metadata": {},
     "output_type": "execute_result"
    }
   ],
   "source": [
    "dff = df['Types of Waste'].unique()\n",
    "dff"
   ]
  },
  {
   "cell_type": "markdown",
   "id": "5e89c6e2-1245-4b15-9e58-f03805d14a94",
   "metadata": {},
   "source": [
    "Using LabelEncoder, there are 4 types of waste in the data"
   ]
  },
  {
   "cell_type": "code",
   "execution_count": 11,
   "id": "9f8c5936-f958-4b43-a719-d60a8a9799e1",
   "metadata": {
    "tags": []
   },
   "outputs": [
    {
     "name": "stdout",
     "output_type": "stream",
     "text": [
      "    Year       States  Types of Waste  Total Household Waste Generated (Tons)  \\\n",
      "6   2004       Berlin               1                                   975.0   \n",
      "7   2004       Berlin               2                                    99.2   \n",
      "11  2004  Brandenburg               2                                    72.1   \n",
      "18  2004      Hamburg               2                                    37.3   \n",
      "38  2004     Saarland               1                                   268.8   \n",
      "\n",
      "    Household Waste Generated per Inhabitant (kg)  Anomaly  \n",
      "6                                           288.0       -1  \n",
      "7                                            29.0       -1  \n",
      "11                                           28.0       -1  \n",
      "18                                           21.0       -1  \n",
      "38                                          254.0       -1  \n"
     ]
    }
   ],
   "source": [
    "from sklearn.ensemble import IsolationForest\n",
    "X = df[['Household Waste Generated per Inhabitant (kg)']]\n",
    "\n",
    "model = IsolationForest(contamination=0.05)\n",
    "model.fit(X)\n",
    "predictions = model.predict(X)\n",
    "\n",
    "df['Anomaly'] = predictions\n",
    "\n",
    "#filter to view the anomalies\n",
    "anomalies = df[df['Anomaly'] == -1]\n",
    "print(anomalies.head())"
   ]
  },
  {
   "cell_type": "code",
   "execution_count": 12,
   "id": "a4ca05ea-1e43-49ba-8d85-ce13da7995f7",
   "metadata": {
    "tags": []
   },
   "outputs": [
    {
     "name": "stderr",
     "output_type": "stream",
     "text": [
      "/home/ebuka/anaconda3/lib/python3.11/site-packages/sklearn/cluster/_kmeans.py:1412: FutureWarning: The default value of `n_init` will change from 10 to 'auto' in 1.4. Set the value of `n_init` explicitly to suppress the warning\n",
      "  super()._check_params_vs_input(X, default_n_init=10)\n"
     ]
    }
   ],
   "source": [
    "# clustering\n",
    "from sklearn.cluster import KMeans\n",
    "import matplotlib.pyplot as plt\n",
    "\n",
    "X = df[['Household Waste Generated per Inhabitant (kg)', 'Total Household Waste Generated (Tons)']]\n",
    "\n",
    "num_clusters = 3\n",
    "\n",
    "kmeans = KMeans(n_clusters= num_clusters)\n",
    "kmeans.fit(X)\n",
    "\n",
    "cluster_assignments = kmeans.labels_\n",
    "df['Cluster'] = cluster_assignments"
   ]
  },
  {
   "cell_type": "code",
   "execution_count": 14,
   "id": "e31cd0f8-93aa-49a4-a85e-49a8ff950334",
   "metadata": {
    "tags": []
   },
   "outputs": [
    {
     "data": {
      "image/png": "[encoded data removed]",
      "text/plain": [
       "<Figure size 640x480 with 1 Axes>"
      ]
     },
     "metadata": {},
     "output_type": "display_data"
    }
   ],
   "source": [
    "#visualize\n",
    "for cluster_id in range(num_clusters):\n",
    "    cluster_data = df[df['Cluster'] == cluster_id]\n",
    "    plt.scatter(cluster_data['Household Waste Generated per Inhabitant (kg)'], cluster_data['Total Household Waste Generated (Tons)'], label=f'Cluster {cluster_id}')\n",
    "    \n",
    "    \n",
    "plt.xlabel('k')\n",
    "plt.ylabel('o')\n",
    "plt.legend()\n",
    "plt.show()"
   ]
  },
  {
   "cell_type": "code",
   "execution_count": 15,
   "id": "9bb886ed-7de3-4354-8b0a-a1588d85bc46",
   "metadata": {
    "tags": []
   },
   "outputs": [
    {
     "name": "stdout",
     "output_type": "stream",
     "text": [
      "Cluster 0:\n",
      "              Year  Types of Waste  Total Household Waste Generated (Tons)  \\\n",
      "count   613.000000      613.000000                              613.000000   \n",
      "mean   2012.468189        1.185971                               99.562969   \n",
      "std       5.161229        1.209169                              103.359441   \n",
      "min    2004.000000        0.000000                                0.100000   \n",
      "25%    2008.000000        0.000000                                3.800000   \n",
      "50%    2012.000000        1.000000                               66.700000   \n",
      "75%    2017.000000        2.000000                              178.200000   \n",
      "max    2021.000000        3.000000                              349.100000   \n",
      "\n",
      "       Household Waste Generated per Inhabitant (kg)     Anomaly  Cluster  \n",
      "count                                     613.000000  613.000000    613.0  \n",
      "mean                                       65.389040    0.915171      0.0  \n",
      "std                                        67.312999    0.403394      0.0  \n",
      "min                                         1.000000   -1.000000      0.0  \n",
      "25%                                         1.000000    1.000000      0.0  \n",
      "50%                                        49.000000    1.000000      0.0  \n",
      "75%                                       120.000000    1.000000      0.0  \n",
      "max                                       255.000000    1.000000      0.0  \n",
      "Cluster 1:\n",
      "              Year  Types of Waste  Total Household Waste Generated (Tons)  \\\n",
      "count   130.000000      130.000000                              130.000000   \n",
      "mean   2011.984615        1.823077                             1426.399231   \n",
      "std       5.162453        0.792067                              206.345235   \n",
      "min    2004.000000        1.000000                             1094.700000   \n",
      "25%    2008.000000        1.000000                             1247.925000   \n",
      "50%    2012.000000        2.000000                             1462.000000   \n",
      "75%    2016.000000        2.000000                             1567.875000   \n",
      "max    2021.000000        3.000000                             1799.100000   \n",
      "\n",
      "       Household Waste Generated per Inhabitant (kg)  Anomaly  Cluster  \n",
      "count                                     130.000000    130.0    130.0  \n",
      "mean                                      160.792308      1.0      1.0  \n",
      "std                                        24.095642      0.0      0.0  \n",
      "min                                       114.000000      1.0      1.0  \n",
      "25%                                       143.000000      1.0      1.0  \n",
      "50%                                       159.000000      1.0      1.0  \n",
      "75%                                       177.000000      1.0      1.0  \n",
      "max                                       212.000000      1.0      1.0  \n",
      "Cluster 2:\n",
      "              Year  Types of Waste  Total Household Waste Generated (Tons)  \\\n",
      "count   303.000000      303.000000                              303.000000   \n",
      "mean   2012.617162        1.811881                              587.792079   \n",
      "std       5.234118        0.913978                              170.837012   \n",
      "min    2004.000000        1.000000                              343.000000   \n",
      "25%    2008.000000        1.000000                              428.500000   \n",
      "50%    2013.000000        1.000000                              561.400000   \n",
      "75%    2017.000000        3.000000                              708.800000   \n",
      "max    2021.000000        3.000000                              978.900000   \n",
      "\n",
      "       Household Waste Generated per Inhabitant (kg)     Anomaly  Cluster  \n",
      "count                                     303.000000  303.000000    303.0  \n",
      "mean                                      181.280528    0.828383      2.0  \n",
      "std                                        50.622717    0.561089      0.0  \n",
      "min                                       105.000000   -1.000000      2.0  \n",
      "25%                                       139.000000    1.000000      2.0  \n",
      "50%                                       173.000000    1.000000      2.0  \n",
      "75%                                       220.000000    1.000000      2.0  \n",
      "max                                       349.000000    1.000000      2.0  \n"
     ]
    }
   ],
   "source": [
    "for cluster_id in range(num_clusters):\n",
    "    cluster_data = df[df['Cluster'] == cluster_id]\n",
    "    print(f\"Cluster {cluster_id}:\")\n",
    "    print(cluster_data.describe())"
   ]
  },
  {
   "cell_type": "code",
   "execution_count": 35,
   "id": "e99e5168-b9ff-46c6-b70f-8d247e55276c",
   "metadata": {},
   "outputs": [],
   "source": [
    "from sklearn.preprocessing import  MinMaxScaler\n",
    "# Scale the data using Min Max Scaler.\n",
    "scaler = MinMaxScaler(feature_range=(-1, 1))\n",
    "columns_ = ['Total Household Waste Generated (Tons)', 'Household Waste Generated per Inhabitant (kg)']\n",
    "y_scaled = scaler.fit_transform(df[columns_])\n",
    "y_scaled = pd.DataFrame(y_scaled, columns=columns_)"
   ]
  },
  {
   "cell_type": "code",
   "execution_count": 36,
   "id": "1b3961fe-b57a-4c1d-8cca-345b814793c6",
   "metadata": {
    "tags": []
   },
   "outputs": [],
   "source": [
    "#regression\n",
    "from sklearn.model_selection import train_test_split\n",
    "from sklearn.linear_model import LinearRegression\n",
    "from sklearn.metrics import mean_squared_error, r2_score\n",
    "\n",
    "X = df[['Year', 'Household Waste Generated per Inhabitant (kg)']]\n",
    "y = df['Total Household Waste Generated (Tons)']\n",
    "\n",
    "X_train, X_test, y_train, y_test = train_test_split(X, y_scaled, test_size=0.2, random_state=42)\n",
    "\n",
    "model = LinearRegression()\n",
    "\n",
    "model.fit(X_train, y_train)\n",
    "\n",
    "y_pred = model.predict(X_test)"
   ]
  },
  {
   "cell_type": "code",
   "execution_count": 39,
   "id": "f51e7d60-fffc-4bac-a76d-5ca7a3ba4c28",
   "metadata": {},
   "outputs": [
    {
     "data": {
      "text/plain": [
       "array([[-0.64477935, -0.51149425],\n",
       "       [-0.9371814 , -1.        ],\n",
       "       [-0.40862203, -0.14942529],\n",
       "       [-0.92823271, -0.98275862]])"
      ]
     },
     "execution_count": 39,
     "metadata": {},
     "output_type": "execute_result"
    }
   ],
   "source": [
    "y_pred[:4]"
   ]
  },
  {
   "cell_type": "code",
   "execution_count": 41,
   "id": "0a5ab244-5cbd-4a0b-b3f0-a6730e7a6756",
   "metadata": {
    "tags": []
   },
   "outputs": [
    {
     "name": "stdout",
     "output_type": "stream",
     "text": [
      "Mean Squared Error: 0.07620863762103597\n",
      "R-squared (R2) Score: 0.6781422150042493\n",
      "Rmse Score: 0.27605911979327175\n"
     ]
    }
   ],
   "source": [
    "#evaluation\n",
    "mse = mean_squared_error(y_test, y_pred)\n",
    "r2 = r2_score(y_test, y_pred)\n",
    "rmse = mse ** (1/2)\n",
    "\n",
    "print(f\"Mean Squared Error: {mse}\")\n",
    "print(f\"R-squared (R2) Score: {r2}\")\n",
    "print(f\"Rmse Score: {rmse}\")"
   ]
  },
  {
   "cell_type": "code",
   "execution_count": 44,
   "id": "57fa299e-6d20-4891-bae9-9123fd72f719",
   "metadata": {},
   "outputs": [
    {
     "name": "stdout",
     "output_type": "stream",
     "text": [
      "Regression Model Score :  0.678\n"
     ]
    }
   ],
   "source": [
    "reg_model_score = model.score(X_test,y_test)\n",
    "print('Regression Model Score : ', round(reg_model_score,3))"
   ]
  },
  {
   "cell_type": "code",
   "execution_count": 45,
   "id": "e33c86f7-fa60-45e0-ae3c-2583a199f67b",
   "metadata": {
    "tags": []
   },
   "outputs": [
    {
     "name": "stdout",
     "output_type": "stream",
     "text": [
      "Predicted Waste for 2021: [-0.23639646  0.14367816] Tons\n"
     ]
    }
   ],
   "source": [
    "#predict\n",
    "new_data = pd.DataFrame({'Year': [2021], 'Household Waste Generated per Inhabitant (kg)': [200]})\n",
    "predicted_waste = model.predict(new_data)\n",
    "print(f\"Predicted Waste for 2021: {predicted_waste[0]} Tons\")"
   ]
  },
  {
   "cell_type": "code",
   "execution_count": 46,
   "id": "fc737504-3ef4-40b0-af0e-977b9639c222",
   "metadata": {},
   "outputs": [
    {
     "name": "stdout",
     "output_type": "stream",
     "text": [
      "Linear Regression:\n",
      "Linear Regression Cross-Validation Mean MSE: 0.08847901446517573\n",
      "Linear Regression Cross-Validation MSE Standard Deviation: 0.011280099452325654\n",
      "\n",
      "Decision Tree Regression:\n",
      "Decision Tree Regression Cross-Validation Mean MSE: 228725.13704493572\n",
      "Decision Tree Regression Cross-Validation MSE Standard Deviation: 51907.79489578168\n",
      "\n",
      "Random Forest Regression:\n",
      "Random Forest Regression Cross-Validation Mean MSE: 127681.09484925312\n",
      "Random Forest Regression Cross-Validation MSE Standard Deviation: 24834.73298039106\n"
     ]
    }
   ],
   "source": [
    "import pandas as pd\n",
    "from sklearn.model_selection import cross_val_score\n",
    "from sklearn.linear_model import LinearRegression\n",
    "from sklearn.tree import DecisionTreeRegressor\n",
    "from sklearn.ensemble import RandomForestRegressor\n",
    "from sklearn.model_selection import train_test_split\n",
    "\n",
    "\n",
    "\n",
    "# Select the features (independent variables) and the target (dependent variable)\n",
    "X = df[['Year', 'Household Waste Generated per Inhabitant (kg)']]\n",
    "y = df['Total Household Waste Generated (Tons)']\n",
    "\n",
    "# Linear Regression with Cross-Validation\n",
    "linear_reg = LinearRegression()\n",
    "linear_scores = cross_val_score(linear_reg, X, y_scaled, cv=5, scoring='neg_mean_squared_error')\n",
    "linear_mse_scores = -linear_scores  # Convert negative MSE scores to positive\n",
    "\n",
    "# Decision Tree Regression with Cross-Validation\n",
    "decision_tree_reg = DecisionTreeRegressor(random_state=42)\n",
    "tree_scores = cross_val_score(decision_tree_reg, X, y, cv=5, scoring='neg_mean_squared_error')\n",
    "tree_mse_scores = -tree_scores  # Convert negative MSE scores to positive\n",
    "\n",
    "# Random Forest Regression with Cross-Validation\n",
    "random_forest_reg = RandomForestRegressor(random_state=42)\n",
    "forest_scores = cross_val_score(random_forest_reg, X, y, cv=5, scoring='neg_mean_squared_error')\n",
    "forest_mse_scores = -forest_scores  # Convert negative MSE scores to positive\n",
    "\n",
    "# Evaluate the models using cross-validation\n",
    "def evaluate_cross_val(scores, model_name):\n",
    "    mse_mean = scores.mean()\n",
    "    mse_std = scores.std()\n",
    "    print(f\"{model_name} Cross-Validation Mean MSE: {mse_mean}\")\n",
    "    print(f\"{model_name} Cross-Validation MSE Standard Deviation: {mse_std}\")\n",
    "\n",
    "print(\"Linear Regression:\")\n",
    "evaluate_cross_val(linear_mse_scores, \"Linear Regression\")\n",
    "\n",
    "print(\"\\nDecision Tree Regression:\")\n",
    "evaluate_cross_val(tree_mse_scores, \"Decision Tree Regression\")\n",
    "\n",
    "print(\"\\nRandom Forest Regression:\")\n",
    "evaluate_cross_val(forest_mse_scores, \"Random Forest Regression\")\n"
   ]
  },
  {
   "cell_type": "code",
   "execution_count": 53,
   "id": "4355509b-dab7-4030-8592-0c15c9ac999b",
   "metadata": {},
   "outputs": [
    {
     "name": "stdout",
     "output_type": "stream",
     "text": [
      "Linear Regression:\n",
      "Linear Regression Mean Squared Error: 0.07620863762103597\n",
      "Linear Regression R-squared (R2) Score: 0.6781422150042493\n",
      "\n",
      "Lasso Regression (L1 Regularization):\n",
      "Lasso Regression Mean Squared Error: 0.07626631963523124\n",
      "Lasso Regression R-squared (R2) Score: 0.6778985946555312\n",
      "\n",
      "Ridge Regression (L2 Regularization):\n",
      "Ridge Regression Mean Squared Error: 0.07620863900401151\n",
      "Ridge Regression R-squared (R2) Score: 0.6781422091634225\n"
     ]
    }
   ],
   "source": [
    "import pandas as pd\n",
    "from sklearn.model_selection import train_test_split\n",
    "from sklearn.linear_model import LinearRegression, Lasso, Ridge\n",
    "from sklearn.metrics import mean_squared_error, r2_score\n",
    "\n",
    "\n",
    "\n",
    "# Select the features (independent variables) and the target (dependent variable)\n",
    "X = df[['Year', 'Household Waste Generated per Inhabitant (kg)']]\n",
    "y = df['Total Household Waste Generated (Tons)']\n",
    "\n",
    "# Split the data into training and testing sets\n",
    "X_train, X_test, y_train, y_test = train_test_split(X, y_scaled, test_size=0.2, random_state=42)\n",
    "\n",
    "# Linear Regression\n",
    "linear_reg = LinearRegression()\n",
    "linear_reg.fit(X_train, y_train)\n",
    "y_pred_linear = linear_reg.predict(X_test)\n",
    "\n",
    "# Lasso Regression (L1 Regularization)\n",
    "lasso_reg = Lasso(alpha=0.01)  # You can adjust the alpha parameter for regularization strength\n",
    "lasso_reg.fit(X_train, y_train)\n",
    "y_pred_lasso = lasso_reg.predict(X_test)\n",
    "\n",
    "# Ridge Regression (L2 Regularization)\n",
    "ridge_reg = Ridge(alpha=0.1)  # You can adjust the alpha parameter for regularization strength\n",
    "ridge_reg.fit(X_train, y_train)\n",
    "y_pred_ridge = ridge_reg.predict(X_test)\n",
    "\n",
    "# Evaluate the models\n",
    "def evaluate_model(y_true, y_pred, model_name):\n",
    "    mse = mean_squared_error(y_true, y_pred)\n",
    "    r2 = r2_score(y_true, y_pred)\n",
    "    print(f\"{model_name} Mean Squared Error: {mse}\")\n",
    "    print(f\"{model_name} R-squared (R2) Score: {r2}\")\n",
    "\n",
    "print(\"Linear Regression:\")\n",
    "evaluate_model(y_test, y_pred_linear, \"Linear Regression\")\n",
    "\n",
    "print(\"\\nLasso Regression (L1 Regularization):\")\n",
    "evaluate_model(y_test, y_pred_lasso, \"Lasso Regression\")\n",
    "\n",
    "print(\"\\nRidge Regression (L2 Regularization):\")\n",
    "evaluate_model(y_test, y_pred_ridge, \"Ridge Regression\")\n"
   ]
  },
  {
   "cell_type": "code",
   "execution_count": 54,
   "id": "2db359a0-bdc5-4aa4-92c7-895d795fb643",
   "metadata": {},
   "outputs": [
    {
     "name": "stdout",
     "output_type": "stream",
     "text": [
      "Random Forest Regression:\n",
      "Random Forest Regression Mean Squared Error: 0.08780898131027039\n",
      "Random Forest Regression R-squared (R2) Score: 0.6291411550106835\n"
     ]
    }
   ],
   "source": [
    "import pandas as pd\n",
    "from sklearn.model_selection import train_test_split\n",
    "from sklearn.ensemble import RandomForestRegressor\n",
    "from sklearn.preprocessing import StandardScaler\n",
    "from sklearn.metrics import mean_squared_error, r2_score\n",
    "\n",
    "\n",
    "# Select the features (independent variables) and the target (dependent variable)\n",
    "X = df[['Year', 'Household Waste Generated per Inhabitant (kg)']]\n",
    "y = df['Total Household Waste Generated (Tons)']\n",
    "\n",
    "# Split the data into training and testing sets\n",
    "X_train, X_test, y_train, y_test = train_test_split(X, y_scaled, test_size=0.2, random_state=42)\n",
    "\n",
    "# Standardize the features (Feature Scaling)\n",
    "scaler = StandardScaler()\n",
    "X_train_scaled = scaler.fit_transform(X_train)\n",
    "X_test_scaled = scaler.transform(X_test)\n",
    "\n",
    "# Random Forest Regression\n",
    "random_forest_reg = RandomForestRegressor(n_estimators=100, random_state=42)\n",
    "random_forest_reg.fit(X_train_scaled, y_train)\n",
    "y_pred_forest = random_forest_reg.predict(X_test_scaled)\n",
    "\n",
    "# Evaluate the Random Forest model\n",
    "def evaluate_model(y_true, y_pred, model_name):\n",
    "    mse = mean_squared_error(y_true, y_pred)\n",
    "    r2 = r2_score(y_true, y_pred)\n",
    "    print(f\"{model_name} Mean Squared Error: {mse}\")\n",
    "    print(f\"{model_name} R-squared (R2) Score: {r2}\")\n",
    "\n",
    "print(\"Random Forest Regression:\")\n",
    "evaluate_model(y_test, y_pred_forest, \"Random Forest Regression\")\n"
   ]
  },
  {
   "cell_type": "code",
   "execution_count": 55,
   "id": "8a70086c-61ba-4312-9be0-2fd91b2b154b",
   "metadata": {},
   "outputs": [
    {
     "name": "stderr",
     "output_type": "stream",
     "text": [
      "/home/ebuka/anaconda3/lib/python3.11/site-packages/sklearn/model_selection/_search.py:307: UserWarning: The total space of parameters 1 is smaller than n_iter=10. Running 1 iterations. For exhaustive searches, use GridSearchCV.\n",
      "  warnings.warn(\n"
     ]
    },
    {
     "name": "stdout",
     "output_type": "stream",
     "text": [
      "Linear Regression:\n",
      "Linear Regression Mean Squared Error: 0.07620863762103597\n",
      "Linear Regression R-squared (R2) Score: 0.6781422150042493\n",
      "\n",
      "Decision Tree Regression:\n",
      "Decision Tree Regression Mean Squared Error: 0.09755702991280467\n",
      "Decision Tree Regression R-squared (R2) Score: 0.587907840753968\n",
      "\n",
      "Random Forest Regression:\n",
      "Random Forest Regression Mean Squared Error: 0.07547054672302364\n",
      "Random Forest Regression R-squared (R2) Score: 0.6812387500312385\n",
      "\n",
      "Best Parameters:\n",
      "Linear Regression: {}\n",
      "Decision Tree Regression: {'max_depth': 10, 'min_samples_split': 9}\n",
      "Random Forest Regression: {'max_depth': 20, 'min_samples_split': 9, 'n_estimators': 166}\n",
      "\n",
      "Best Negative MSE Scores:\n",
      "Linear Regression: -0.09216942626168143\n",
      "Decision Tree Regression: -0.07508279693549574\n",
      "Random Forest Regression: -0.06216808518499669\n"
     ]
    }
   ],
   "source": [
    "import pandas as pd\n",
    "from sklearn.model_selection import train_test_split, RandomizedSearchCV\n",
    "from sklearn.linear_model import LinearRegression\n",
    "from sklearn.tree import DecisionTreeRegressor\n",
    "from sklearn.ensemble import RandomForestRegressor\n",
    "from scipy.stats import uniform, randint\n",
    "from sklearn.metrics import mean_squared_error, r2_score\n",
    "\n",
    "\n",
    "\n",
    "# Select the features (independent variables) and the target (dependent variable)\n",
    "X = df[['Year', 'Household Waste Generated per Inhabitant (kg)']]\n",
    "y = df['Total Household Waste Generated (Tons)']\n",
    "\n",
    "# Split the data into training and testing sets\n",
    "X_train, X_test, y_train, y_test = train_test_split(X, y_scaled, test_size=0.2, random_state=42)\n",
    "\n",
    "# Linear Regression with Randomized Search\n",
    "linear_reg = LinearRegression()\n",
    "param_dist_linear = {}  # No hyperparameters to specify\n",
    "\n",
    "random_search_linear = RandomizedSearchCV(\n",
    "    linear_reg, param_distributions=param_dist_linear, n_iter=10, cv=5, scoring='neg_mean_squared_error', random_state=42\n",
    ")\n",
    "random_search_linear.fit(X_train, y_train)\n",
    "best_linear_reg = random_search_linear.best_estimator_\n",
    "y_pred_linear = best_linear_reg.predict(X_test)\n",
    "\n",
    "# Decision Tree Regression with Randomized Search\n",
    "decision_tree_reg = DecisionTreeRegressor(random_state=42)\n",
    "param_dist_tree = {\n",
    "    'max_depth': [None, 5, 10, 20],\n",
    "    'min_samples_split': randint(2, 11)\n",
    "}\n",
    "\n",
    "random_search_tree = RandomizedSearchCV(\n",
    "    decision_tree_reg, param_distributions=param_dist_tree, n_iter=10, cv=5, scoring='neg_mean_squared_error', random_state=42\n",
    ")\n",
    "random_search_tree.fit(X_train, y_train)\n",
    "best_tree_reg = random_search_tree.best_estimator_\n",
    "y_pred_tree = best_tree_reg.predict(X_test)\n",
    "\n",
    "# Random Forest Regression with Randomized Search\n",
    "random_forest_reg = RandomForestRegressor(random_state=42)\n",
    "param_dist_forest = {\n",
    "    'n_estimators': randint(50, 201),\n",
    "    'max_depth': [None, 10, 20],\n",
    "    'min_samples_split': randint(2, 11)\n",
    "}\n",
    "\n",
    "random_search_forest = RandomizedSearchCV(\n",
    "    random_forest_reg, param_distributions=param_dist_forest, n_iter=10, cv=5, scoring='neg_mean_squared_error', random_state=42\n",
    ")\n",
    "random_search_forest.fit(X_train, y_train)\n",
    "best_forest_reg = random_search_forest.best_estimator_\n",
    "y_pred_forest = best_forest_reg.predict(X_test)\n",
    "\n",
    "# Evaluate the models\n",
    "def evaluate_model(y_true, y_pred, model_name):\n",
    "    mse = mean_squared_error(y_true, y_pred)\n",
    "    r2 = r2_score(y_true, y_pred)\n",
    "    print(f\"{model_name} Mean Squared Error: {mse}\")\n",
    "    print(f\"{model_name} R-squared (R2) Score: {r2}\")\n",
    "\n",
    "print(\"Linear Regression:\")\n",
    "evaluate_model(y_test, y_pred_linear, \"Linear Regression\")\n",
    "\n",
    "print(\"\\nDecision Tree Regression:\")\n",
    "evaluate_model(y_test, y_pred_tree, \"Decision Tree Regression\")\n",
    "\n",
    "print(\"\\nRandom Forest Regression:\")\n",
    "evaluate_model(y_test, y_pred_forest, \"Random Forest Regression\")\n",
    "\n",
    "# Get the best parameters for each model\n",
    "print(\"\\nBest Parameters:\")\n",
    "print(\"Linear Regression:\", random_search_linear.best_params_)\n",
    "print(\"Decision Tree Regression:\", random_search_tree.best_params_)\n",
    "print(\"Random Forest Regression:\", random_search_forest.best_params_)\n",
    "\n",
    "# Get the best negative MSE scores for each model (negate for positive MSE)\n",
    "print(\"\\nBest Negative MSE Scores:\")\n",
    "print(\"Linear Regression:\", random_search_linear.best_score_)\n",
    "print(\"Decision Tree Regression:\", random_search_tree.best_score_)\n",
    "print(\"Random Forest Regression:\", random_search_forest.best_score_)\n"
   ]
  },
  {
   "cell_type": "code",
   "execution_count": 51,
   "id": "b71d7116-cc6f-424b-894d-d1ca6b69bc58",
   "metadata": {},
   "outputs": [
    {
     "data": {
      "image/png": "[encoded data removed]",
      "text/plain": [
       "<Figure size 1000x600 with 1 Axes>"
      ]
     },
     "metadata": {},
     "output_type": "display_data"
    }
   ],
   "source": [
    "import pandas as pd\n",
    "import numpy as np\n",
    "import matplotlib.pyplot as plt\n",
    "from sklearn.model_selection import train_test_split\n",
    "from sklearn.linear_model import Lasso\n",
    "from sklearn.preprocessing import StandardScaler\n",
    "from sklearn.metrics import mean_squared_error\n",
    "\n",
    "\n",
    "# Select the features (independent variables) and the target (dependent variable)\n",
    "X = df[['Year', 'Household Waste Generated per Inhabitant (kg)']]\n",
    "y = df['Total Household Waste Generated (Tons)']\n",
    "\n",
    "# Split the data into training and testing sets\n",
    "X_train, X_test, y_train, y_test = train_test_split(X, y_scaled, test_size=0.2, random_state=42)\n",
    "\n",
    "# Standardize the features (Feature Scaling)\n",
    "scaler = StandardScaler()\n",
    "X_train_scaled = scaler.fit_transform(X_train)\n",
    "X_test_scaled = scaler.transform(X_test)\n",
    "\n",
    "# Create a range of alpha values to test\n",
    "alphas = np.logspace(-3, 2, 100)\n",
    "\n",
    "# Initialize lists to store training and test scores\n",
    "train_scores = []\n",
    "test_scores = []\n",
    "\n",
    "# Fit Lasso Regression models with different alphas and record scores\n",
    "for alpha in alphas:\n",
    "    lasso_reg = Lasso(alpha=alpha)\n",
    "    lasso_reg.fit(X_train_scaled, y_train)\n",
    "    \n",
    "    # Calculate training and test scores (R-squared in this case)\n",
    "    train_score = lasso_reg.score(X_train_scaled, y_train)\n",
    "    test_score = lasso_reg.score(X_test_scaled, y_test)\n",
    "    \n",
    "    train_scores.append(train_score)\n",
    "    test_scores.append(test_score)\n",
    "\n",
    "# Create a plot to visualize the training and test scores as a function of alpha\n",
    "plt.figure(figsize=(10, 6))\n",
    "plt.plot(alphas, train_scores, label='Training Score', marker='o', linestyle='-')\n",
    "plt.plot(alphas, test_scores, label='Test Score', marker='o', linestyle='-')\n",
    "plt.xscale('log')\n",
    "plt.xlabel('Alpha (Regularization Strength)')\n",
    "plt.ylabel('R-squared Score')\n",
    "plt.title('Training and Test Scores vs. Alpha for Lasso Regression')\n",
    "plt.grid(True)\n",
    "plt.legend()\n",
    "plt.tight_layout()\n",
    "\n",
    "plt.show()\n"
   ]
  },
  {
   "cell_type": "code",
   "execution_count": null,
   "id": "d4e8ffa5-d170-4d83-8926-34000d611f76",
   "metadata": {},
   "outputs": [],
   "source": []
  },
  {
   "cell_type": "code",
   "execution_count": null,
   "id": "dace3832-c581-4b45-8c42-22d91e5f3d52",
   "metadata": {},
   "outputs": [],
   "source": []
  },
  {
   "cell_type": "code",
   "execution_count": null,
   "id": "b2e32a34-47ee-40f8-be68-c1f287dce90b",
   "metadata": {},
   "outputs": [],
   "source": []
  }
 ],
 "metadata": {
  "kernelspec": {
   "display_name": "Python 3 (ipykernel)",
   "language": "python",
   "name": "python3"
  },
  "language_info": {
   "codemirror_mode": {
    "name": "ipython",
    "version": 3
   },
   "file_extension": ".py",
   "mimetype": "text/x-python",
   "name": "python",
   "nbconvert_exporter": "python",
   "pygments_lexer": "ipython3",
   "version": "3.11.3"
  }
 },
 "nbformat": 4,
 "nbformat_minor": 5
}
