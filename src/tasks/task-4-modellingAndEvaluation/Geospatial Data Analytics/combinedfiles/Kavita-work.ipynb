{
 "cells": [
  {
   "cell_type": "code",
   "execution_count": 1,
   "metadata": {},
   "outputs": [],
   "source": [
    "import pandas as pd\n",
    "import numpy as np"
   ]
  },
  {
   "cell_type": "code",
   "execution_count": 2,
   "metadata": {},
   "outputs": [],
   "source": [
    "df = pd.read_csv(\"E:\\\\mygit\\\\Berlin-Chapter-Challenge-Waste-Management\\\\src\\\\data\\\\3-clean data\\\\Data_Rework\\\\Geospatial Data\\\\combinedfiles\\\\complete_geospatialdata_withoutfactors.csv\")"
   ]
  },
  {
   "cell_type": "code",
   "execution_count": 4,
   "metadata": {},
   "outputs": [
    {
     "data": {
      "text/plain": [
       "(156735, 7)"
      ]
     },
     "execution_count": 4,
     "metadata": {},
     "output_type": "execute_result"
    }
   ],
   "source": [
    "df.shape"
   ]
  },
  {
   "cell_type": "code",
   "execution_count": 5,
   "metadata": {},
   "outputs": [],
   "source": [
    "station_counts = df['station'].value_counts()\n"
   ]
  },
  {
   "cell_type": "code",
   "execution_count": 6,
   "metadata": {},
   "outputs": [
    {
     "name": "stdout",
     "output_type": "stream",
     "text": [
      "station\n",
      "recycling centres          117707\n",
      "landfills                   27001\n",
      "waste disposal centres      10715\n",
      "waste transfer stations      1312\n",
      "Name: count, dtype: int64\n"
     ]
    }
   ],
   "source": [
    "print(station_counts)"
   ]
  },
  {
   "cell_type": "code",
   "execution_count": 14,
   "metadata": {},
   "outputs": [],
   "source": [
    "state_station_counts = df.groupby('station')['state'].value_counts()\n"
   ]
  },
  {
   "cell_type": "code",
   "execution_count": 15,
   "metadata": {},
   "outputs": [
    {
     "name": "stdout",
     "output_type": "stream",
     "text": [
      "station                  state                    \n",
      "landfills                Baden_Württemberg             8842\n",
      "                         Saxony                        4754\n",
      "                         Lower Saxony                  3172\n",
      "                         Hesse                         3172\n",
      "                         Rhineland-Palatinate          3022\n",
      "                         Saarland                      1405\n",
      "                         Mecklenburg-Vorpommern         684\n",
      "                         North Rhine-Westphalia         684\n",
      "                         Thuringia                      317\n",
      "                         Brandenburg                    249\n",
      "                         Berlin                         249\n",
      "                         Bavaria                        249\n",
      "                         Hamburg                        202\n",
      "recycling centres        North Rhine-Westphalia       22869\n",
      "                         Bavaria                      21111\n",
      "                         Baden_Württemberg            16399\n",
      "                         Hesse                         9591\n",
      "                         Lower Saxony                  9196\n",
      "                         Saxony                        6967\n",
      "                         Rhineland-Palatinate          5729\n",
      "                         Brandenburg                   4562\n",
      "                         Schleswig-Holstein            4236\n",
      "                         Thuringia                     3827\n",
      "                         Berlin                        3421\n",
      "                         Saxony-Anhalt                 3145\n",
      "                         Mecklenburg-Vorpommern        2917\n",
      "                         Saarland                      1750\n",
      "                         Hamburg                       1316\n",
      "                         Bremen                         671\n",
      "waste disposal centres   Saxony                        3229\n",
      "                         Thuringia                     1960\n",
      "                         NorthRhine-Westphalia         1793\n",
      "                         LowerSaxony_Niedersachsen     1414\n",
      "                         Mecklenburg_Vorpommern         710\n",
      "                         Hesse                          539\n",
      "                         Schleswig-Holstein             524\n",
      "                         Rhineland-Palatinate           350\n",
      "                         Saarland                       148\n",
      "                         Saxony-Anhalt                   48\n",
      "waste transfer stations  Bavaria                        307\n",
      "                         Berlin                         197\n",
      "                         Baden-Wurttemberg              197\n",
      "                         LowerSaxony_Niedersachsen      196\n",
      "                         Saxony                         128\n",
      "                         Thuringia                       88\n",
      "                         Rhineland-Palatinate            74\n",
      "                         Saxony-Anhalt                   46\n",
      "                         Mecklenburg_Vorpommern          26\n",
      "                         NorthRhine-Westphalia           26\n",
      "                         Schleswig-Holstein              12\n",
      "                         Hamburg                          5\n",
      "                         Hesse                            5\n",
      "                         Bremen                           4\n",
      "                         Bradenburg                       1\n",
      "Name: count, dtype: int64\n"
     ]
    }
   ],
   "source": [
    "print(state_station_counts)"
   ]
  }
 ],
 "metadata": {
  "kernelspec": {
   "display_name": "Python 3",
   "language": "python",
   "name": "python3"
  },
  "language_info": {
   "codemirror_mode": {
    "name": "ipython",
    "version": 3
   },
   "file_extension": ".py",
   "mimetype": "text/x-python",
   "name": "python",
   "nbconvert_exporter": "python",
   "pygments_lexer": "ipython3",
   "version": "3.11.0"
  },
  "orig_nbformat": 4
 },
 "nbformat": 4,
 "nbformat_minor": 2
}
