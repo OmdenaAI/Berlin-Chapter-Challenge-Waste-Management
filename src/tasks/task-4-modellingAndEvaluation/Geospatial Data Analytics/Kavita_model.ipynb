{
 "cells": [
  {
   "cell_type": "code",
   "execution_count": 3,
   "metadata": {},
   "outputs": [],
   "source": [
    "import pandas as pd\n",
    "import numpy as np\n",
    "import json \n",
    "import pickle \n",
    "import requests"
   ]
  },
  {
   "cell_type": "code",
   "execution_count": 13,
   "metadata": {},
   "outputs": [
    {
     "name": "stdout",
     "output_type": "stream",
     "text": [
      "200 OK\n",
      "{\"type\":\"FeatureCollection\",\"metadata\":{\"attribution\":\"openrouteservice.org | OpenStreetMap contributors\",\"service\":\"routing\",\"timestamp\":1696221963165,\"query\":{\"coordinates\":[[8.681495,49.41461],[8.687872,49.420318]],\"profile\":\"driving-hgv\",\"format\":\"json\"},\"engine\":{\"version\":\"7.1.0\",\"build_date\":\"2023-07-09T01:31:50Z\",\"graph_date\":\"2023-10-01T08:23:22Z\"}},\"bbox\":[8.681423,49.414599,8.69198,49.420514],\"features\":[{\"bbox\":[8.681423,49.414599,8.69198,49.420514],\"type\":\"Feature\",\"properties\":{\"transfers\":0,\"fare\":0,\"segments\":[{\"distance\":1601.9,\"duration\":284.4,\"steps\":[{\"distance\":1.8,\"duration\":0.4,\"type\":11,\"instruction\":\"Head west on Gerhart-Hauptmann-Straße\",\"name\":\"Gerhart-Hauptmann-Straße\",\"way_points\":[0,1]},{\"distance\":313.8,\"duration\":75.3,\"type\":1,\"instruction\":\"Turn right onto Wielandtstraße\",\"name\":\"Wielandtstraße\",\"way_points\":[1,6]},{\"distance\":737.5,\"duration\":110.5,\"type\":1,\"instruction\":\"Turn right onto Mönchhofstraße\",\"name\":\"Mönchhofstraße\",\"way_points\":[6,21]},{\"distance\":418.1,\"duration\":66.8,\"type\":0,\"instruction\":\"Turn left onto Handschuhsheimer Landstraße, B 3\",\"name\":\"Handschuhsheimer Landstraße, B 3\",\"way_points\":[21,36]},{\"distance\":130.6,\"duration\":31.4,\"type\":0,\"instruction\":\"Turn left onto Roonstraße\",\"name\":\"Roonstraße\",\"way_points\":[36,37]},{\"distance\":0.0,\"duration\":0.0,\"type\":10,\"instruction\":\"Arrive at Roonstraße, straight ahead\",\"name\":\"-\",\"way_points\":[37,37]}]}],\"way_points\":[0,37],\"summary\":{\"distance\":1601.9,\"duration\":284.4}},\"geometry\":{\"coordinates\":[[8.681495,49.414599],[8.68147,49.414599],[8.681488,49.41465],[8.681423,49.415746],[8.681656,49.41659],[8.681826,49.417081],[8.681881,49.417392],[8.682461,49.417389],[8.682676,49.417387],[8.683595,49.417372],[8.68536,49.417365],[8.686407,49.417365],[8.68703,49.41736],[8.687467,49.417351],[8.688212,49.417358],[8.688802,49.417381],[8.690345,49.417424],[8.690434,49.417418],[8.691467,49.417155],[8.691735,49.417102],[8.691805,49.417098],[8.69198,49.417121],[8.691931,49.417235],[8.691817,49.417369],[8.691428,49.417726],[8.691073,49.418051],[8.690936,49.418188],[8.690946,49.41825],[8.69092,49.418378],[8.690912,49.418411],[8.690667,49.418993],[8.690621,49.419095],[8.690391,49.419368],[8.690275,49.419577],[8.690123,49.419833],[8.689854,49.420217],[8.689653,49.420514],[8.687871,49.420322]],\"type\":\"LineString\"}}]}\n"
     ]
    }
   ],
   "source": [
    "# Replace with your API key\n",
    "api_key = \"5b3ce3597851110001cf62481812d7fb40e0470695b078ee763d603e\"\n",
    "\n",
    "# Replace with your specific latitude and longitude coordinates for the starting and ending points\n",
    "start_latitude = 49.41461\n",
    "start_longitude = 8.681495\n",
    "end_latitude = 49.420318\n",
    "end_longitude = 8.687872\n",
    "\n",
    "# Define the URL with the parameters\n",
    "url = f'https://api.openrouteservice.org/v2/directions/driving-hgv?api_key={api_key}&start={start_longitude},{start_latitude}&end={end_longitude},{end_latitude}'\n",
    "\n",
    "# Define the headers for the request\n",
    "headers = {\n",
    "    'Accept': 'application/json, application/geo+json',\n",
    "}\n",
    "\n",
    "# Make the GET request to ORS Directions API\n",
    "response = requests.get(url, headers=headers)\n",
    "\n",
    "# Check the HTTP status code and reason\n",
    "print(response.status_code, response.reason)\n",
    "\n",
    "# Print the response content\n",
    "print(response.text)\n"
   ]
  },
  {
   "cell_type": "code",
   "execution_count": 15,
   "metadata": {},
   "outputs": [
    {
     "name": "stdout",
     "output_type": "stream",
     "text": [
      "Route data saved as 'route_data.geojson'\n"
     ]
    }
   ],
   "source": [
    "if response.status_code == 200:\n",
    "    geojson_data = response.json()  # Updated variable name\n",
    "    \n",
    "    # Save the GeoJSON data to a .geojson file\n",
    "    with open('route_data.geojson', 'w') as geojson_file:\n",
    "        json.dump(geojson_data, geojson_file)\n",
    "    print(\"Route data saved as 'route_data.geojson'\")\n",
    "else:\n",
    "    print(\"Error: Unable to fetch route data\")"
   ]
  },
  {
   "cell_type": "code",
   "execution_count": 17,
   "metadata": {},
   "outputs": [],
   "source": [
    "import folium\n",
    "import json\n",
    "\n",
    "# Load the GeoJSON data from the file\n",
    "with open('route_data.geojson', 'r') as geojson_file:\n",
    "    geojson_data = json.load(geojson_file)\n",
    "\n",
    "# Create a Folium map centered on the route\n",
    "m = folium.Map(location=[49.41461, 8.681495], zoom_start=15)\n",
    "\n",
    "# Add the GeoJSON data to the map as a GeoJson object\n",
    "folium.GeoJson(geojson_data).add_to(m)\n",
    "\n",
    "# Display the map\n",
    "m.save('route_map.html')"
   ]
  },
  {
   "cell_type": "code",
   "execution_count": 1,
   "metadata": {},
   "outputs": [],
   "source": [
    "station_clusters_file_path = \"E:\\\\Berlin-Chapter-Challenge-Waste-Management\\\\src\\\\tasks\\\\task-4-modellingAndEvaluation\\\\Geospatial Data Analytics\\\\combinedfiles\\\\station_cluster_centers.csv\""
   ]
  },
  {
   "cell_type": "code",
   "execution_count": 4,
   "metadata": {},
   "outputs": [],
   "source": [
    "df = pd.read_csv(station_clusters_file_path)"
   ]
  },
  {
   "cell_type": "code",
   "execution_count": 5,
   "metadata": {},
   "outputs": [
    {
     "data": {
      "text/html": [
       "<div>\n",
       "<style scoped>\n",
       "    .dataframe tbody tr th:only-of-type {\n",
       "        vertical-align: middle;\n",
       "    }\n",
       "\n",
       "    .dataframe tbody tr th {\n",
       "        vertical-align: top;\n",
       "    }\n",
       "\n",
       "    .dataframe thead th {\n",
       "        text-align: right;\n",
       "    }\n",
       "</style>\n",
       "<table border=\"1\" class=\"dataframe\">\n",
       "  <thead>\n",
       "    <tr style=\"text-align: right;\">\n",
       "      <th></th>\n",
       "      <th>Unnamed: 0</th>\n",
       "      <th>id</th>\n",
       "      <th>state</th>\n",
       "      <th>station</th>\n",
       "      <th>lat</th>\n",
       "      <th>lon</th>\n",
       "      <th>cluster_lat</th>\n",
       "      <th>cluster_lon</th>\n",
       "      <th>cluster_ID</th>\n",
       "    </tr>\n",
       "  </thead>\n",
       "  <tbody>\n",
       "    <tr>\n",
       "      <th>0</th>\n",
       "      <td>0</td>\n",
       "      <td>291220769</td>\n",
       "      <td>Hesse</td>\n",
       "      <td>waste disposal centres</td>\n",
       "      <td>50.554103</td>\n",
       "      <td>9.713017</td>\n",
       "      <td>49.929331</td>\n",
       "      <td>10.002324</td>\n",
       "      <td>19</td>\n",
       "    </tr>\n",
       "    <tr>\n",
       "      <th>1</th>\n",
       "      <td>1</td>\n",
       "      <td>322806282</td>\n",
       "      <td>Hesse</td>\n",
       "      <td>waste disposal centres</td>\n",
       "      <td>50.141800</td>\n",
       "      <td>8.682534</td>\n",
       "      <td>50.167510</td>\n",
       "      <td>8.449278</td>\n",
       "      <td>11</td>\n",
       "    </tr>\n",
       "    <tr>\n",
       "      <th>2</th>\n",
       "      <td>2</td>\n",
       "      <td>419842535</td>\n",
       "      <td>Hesse</td>\n",
       "      <td>waste disposal centres</td>\n",
       "      <td>51.291106</td>\n",
       "      <td>9.487143</td>\n",
       "      <td>51.362395</td>\n",
       "      <td>9.596176</td>\n",
       "      <td>18</td>\n",
       "    </tr>\n",
       "    <tr>\n",
       "      <th>3</th>\n",
       "      <td>3</td>\n",
       "      <td>521376692</td>\n",
       "      <td>Hesse</td>\n",
       "      <td>waste disposal centres</td>\n",
       "      <td>50.099528</td>\n",
       "      <td>8.669237</td>\n",
       "      <td>50.167510</td>\n",
       "      <td>8.449278</td>\n",
       "      <td>11</td>\n",
       "    </tr>\n",
       "    <tr>\n",
       "      <th>4</th>\n",
       "      <td>4</td>\n",
       "      <td>778177214</td>\n",
       "      <td>Hesse</td>\n",
       "      <td>waste disposal centres</td>\n",
       "      <td>50.588914</td>\n",
       "      <td>8.664269</td>\n",
       "      <td>50.167510</td>\n",
       "      <td>8.449278</td>\n",
       "      <td>11</td>\n",
       "    </tr>\n",
       "  </tbody>\n",
       "</table>\n",
       "</div>"
      ],
      "text/plain": [
       "   Unnamed: 0         id  state                 station        lat       lon   \n",
       "0           0  291220769  Hesse  waste disposal centres  50.554103  9.713017  \\\n",
       "1           1  322806282  Hesse  waste disposal centres  50.141800  8.682534   \n",
       "2           2  419842535  Hesse  waste disposal centres  51.291106  9.487143   \n",
       "3           3  521376692  Hesse  waste disposal centres  50.099528  8.669237   \n",
       "4           4  778177214  Hesse  waste disposal centres  50.588914  8.664269   \n",
       "\n",
       "   cluster_lat  cluster_lon  cluster_ID  \n",
       "0    49.929331    10.002324          19  \n",
       "1    50.167510     8.449278          11  \n",
       "2    51.362395     9.596176          18  \n",
       "3    50.167510     8.449278          11  \n",
       "4    50.167510     8.449278          11  "
      ]
     },
     "execution_count": 5,
     "metadata": {},
     "output_type": "execute_result"
    }
   ],
   "source": [
    "df.head()"
   ]
  },
  {
   "cell_type": "code",
   "execution_count": 8,
   "metadata": {},
   "outputs": [],
   "source": [
    "df = df[['id', 'state', 'station', 'cluster_lon', 'cluster_lat', 'cluster_ID']]\n"
   ]
  },
  {
   "cell_type": "code",
   "execution_count": 9,
   "metadata": {},
   "outputs": [
    {
     "data": {
      "text/html": [
       "<div>\n",
       "<style scoped>\n",
       "    .dataframe tbody tr th:only-of-type {\n",
       "        vertical-align: middle;\n",
       "    }\n",
       "\n",
       "    .dataframe tbody tr th {\n",
       "        vertical-align: top;\n",
       "    }\n",
       "\n",
       "    .dataframe thead th {\n",
       "        text-align: right;\n",
       "    }\n",
       "</style>\n",
       "<table border=\"1\" class=\"dataframe\">\n",
       "  <thead>\n",
       "    <tr style=\"text-align: right;\">\n",
       "      <th></th>\n",
       "      <th>id</th>\n",
       "      <th>state</th>\n",
       "      <th>station</th>\n",
       "      <th>cluster_lon</th>\n",
       "      <th>cluster_lat</th>\n",
       "      <th>cluster_ID</th>\n",
       "    </tr>\n",
       "  </thead>\n",
       "  <tbody>\n",
       "    <tr>\n",
       "      <th>0</th>\n",
       "      <td>291220769</td>\n",
       "      <td>Hesse</td>\n",
       "      <td>waste disposal centres</td>\n",
       "      <td>10.002324</td>\n",
       "      <td>49.929331</td>\n",
       "      <td>19</td>\n",
       "    </tr>\n",
       "    <tr>\n",
       "      <th>1</th>\n",
       "      <td>322806282</td>\n",
       "      <td>Hesse</td>\n",
       "      <td>waste disposal centres</td>\n",
       "      <td>8.449278</td>\n",
       "      <td>50.167510</td>\n",
       "      <td>11</td>\n",
       "    </tr>\n",
       "    <tr>\n",
       "      <th>2</th>\n",
       "      <td>419842535</td>\n",
       "      <td>Hesse</td>\n",
       "      <td>waste disposal centres</td>\n",
       "      <td>9.596176</td>\n",
       "      <td>51.362395</td>\n",
       "      <td>18</td>\n",
       "    </tr>\n",
       "    <tr>\n",
       "      <th>3</th>\n",
       "      <td>521376692</td>\n",
       "      <td>Hesse</td>\n",
       "      <td>waste disposal centres</td>\n",
       "      <td>8.449278</td>\n",
       "      <td>50.167510</td>\n",
       "      <td>11</td>\n",
       "    </tr>\n",
       "    <tr>\n",
       "      <th>4</th>\n",
       "      <td>778177214</td>\n",
       "      <td>Hesse</td>\n",
       "      <td>waste disposal centres</td>\n",
       "      <td>8.449278</td>\n",
       "      <td>50.167510</td>\n",
       "      <td>11</td>\n",
       "    </tr>\n",
       "  </tbody>\n",
       "</table>\n",
       "</div>"
      ],
      "text/plain": [
       "          id  state                 station  cluster_lon  cluster_lat   \n",
       "0  291220769  Hesse  waste disposal centres    10.002324    49.929331  \\\n",
       "1  322806282  Hesse  waste disposal centres     8.449278    50.167510   \n",
       "2  419842535  Hesse  waste disposal centres     9.596176    51.362395   \n",
       "3  521376692  Hesse  waste disposal centres     8.449278    50.167510   \n",
       "4  778177214  Hesse  waste disposal centres     8.449278    50.167510   \n",
       "\n",
       "   cluster_ID  \n",
       "0          19  \n",
       "1          11  \n",
       "2          18  \n",
       "3          11  \n",
       "4          11  "
      ]
     },
     "execution_count": 9,
     "metadata": {},
     "output_type": "execute_result"
    }
   ],
   "source": [
    "df.head()"
   ]
  },
  {
   "cell_type": "code",
   "execution_count": 10,
   "metadata": {},
   "outputs": [
    {
     "data": {
      "text/plain": [
       "(66552, 6)"
      ]
     },
     "execution_count": 10,
     "metadata": {},
     "output_type": "execute_result"
    }
   ],
   "source": [
    "df.shape"
   ]
  },
  {
   "cell_type": "code",
   "execution_count": 18,
   "metadata": {},
   "outputs": [],
   "source": [
    "df = df.drop_duplicates(subset=['station', 'cluster_ID'])\n"
   ]
  },
  {
   "cell_type": "code",
   "execution_count": 23,
   "metadata": {},
   "outputs": [
    {
     "data": {
      "text/html": [
       "<div>\n",
       "<style scoped>\n",
       "    .dataframe tbody tr th:only-of-type {\n",
       "        vertical-align: middle;\n",
       "    }\n",
       "\n",
       "    .dataframe tbody tr th {\n",
       "        vertical-align: top;\n",
       "    }\n",
       "\n",
       "    .dataframe thead th {\n",
       "        text-align: right;\n",
       "    }\n",
       "</style>\n",
       "<table border=\"1\" class=\"dataframe\">\n",
       "  <thead>\n",
       "    <tr style=\"text-align: right;\">\n",
       "      <th></th>\n",
       "      <th>id</th>\n",
       "      <th>state</th>\n",
       "      <th>station</th>\n",
       "      <th>cluster_lon</th>\n",
       "      <th>cluster_lat</th>\n",
       "      <th>cluster_ID</th>\n",
       "    </tr>\n",
       "  </thead>\n",
       "  <tbody>\n",
       "    <tr>\n",
       "      <th>4866</th>\n",
       "      <td>2754811013</td>\n",
       "      <td>Baden-Wurttemberg</td>\n",
       "      <td>landfills</td>\n",
       "      <td>8.455658</td>\n",
       "      <td>49.765426</td>\n",
       "      <td>19</td>\n",
       "    </tr>\n",
       "    <tr>\n",
       "      <th>7130</th>\n",
       "      <td>391525132</td>\n",
       "      <td>Brandenburg</td>\n",
       "      <td>recycling centres</td>\n",
       "      <td>12.775607</td>\n",
       "      <td>53.913894</td>\n",
       "      <td>19</td>\n",
       "    </tr>\n",
       "    <tr>\n",
       "      <th>6967</th>\n",
       "      <td>52225421</td>\n",
       "      <td>Brandenburg</td>\n",
       "      <td>recycling centres</td>\n",
       "      <td>13.448486</td>\n",
       "      <td>52.461206</td>\n",
       "      <td>8</td>\n",
       "    </tr>\n",
       "    <tr>\n",
       "      <th>5841</th>\n",
       "      <td>687953120</td>\n",
       "      <td>Hesse</td>\n",
       "      <td>landfills</td>\n",
       "      <td>9.633526</td>\n",
       "      <td>50.616450</td>\n",
       "      <td>16</td>\n",
       "    </tr>\n",
       "    <tr>\n",
       "      <th>40332</th>\n",
       "      <td>340384778</td>\n",
       "      <td>Lower Saxony</td>\n",
       "      <td>recycling centres</td>\n",
       "      <td>9.678874</td>\n",
       "      <td>54.338817</td>\n",
       "      <td>16</td>\n",
       "    </tr>\n",
       "    <tr>\n",
       "      <th>5755</th>\n",
       "      <td>4154888318</td>\n",
       "      <td>North Rhine-Westphalia</td>\n",
       "      <td>landfills</td>\n",
       "      <td>13.514182</td>\n",
       "      <td>53.829247</td>\n",
       "      <td>15</td>\n",
       "    </tr>\n",
       "    <tr>\n",
       "      <th>4107</th>\n",
       "      <td>632700351</td>\n",
       "      <td>Baden-Wurttemberg</td>\n",
       "      <td>landfills</td>\n",
       "      <td>7.976031</td>\n",
       "      <td>48.046606</td>\n",
       "      <td>10</td>\n",
       "    </tr>\n",
       "    <tr>\n",
       "      <th>18785</th>\n",
       "      <td>374401302</td>\n",
       "      <td>Saxony</td>\n",
       "      <td>recycling centres</td>\n",
       "      <td>11.203685</td>\n",
       "      <td>50.655228</td>\n",
       "      <td>9</td>\n",
       "    </tr>\n",
       "    <tr>\n",
       "      <th>193</th>\n",
       "      <td>472318025</td>\n",
       "      <td>Lower Saxony</td>\n",
       "      <td>waste disposal centres</td>\n",
       "      <td>8.186001</td>\n",
       "      <td>53.282791</td>\n",
       "      <td>8</td>\n",
       "    </tr>\n",
       "    <tr>\n",
       "      <th>3955</th>\n",
       "      <td>7644625458</td>\n",
       "      <td>Bavaria</td>\n",
       "      <td>waste transfer stations</td>\n",
       "      <td>11.036284</td>\n",
       "      <td>49.776391</td>\n",
       "      <td>9</td>\n",
       "    </tr>\n",
       "  </tbody>\n",
       "</table>\n",
       "</div>"
      ],
      "text/plain": [
       "               id                   state                  station   \n",
       "4866   2754811013       Baden-Wurttemberg                landfills  \\\n",
       "7130    391525132             Brandenburg        recycling centres   \n",
       "6967     52225421             Brandenburg        recycling centres   \n",
       "5841    687953120                   Hesse                landfills   \n",
       "40332   340384778            Lower Saxony        recycling centres   \n",
       "5755   4154888318  North Rhine-Westphalia                landfills   \n",
       "4107    632700351       Baden-Wurttemberg                landfills   \n",
       "18785   374401302                  Saxony        recycling centres   \n",
       "193     472318025            Lower Saxony   waste disposal centres   \n",
       "3955   7644625458                 Bavaria  waste transfer stations   \n",
       "\n",
       "       cluster_lon  cluster_lat  cluster_ID  \n",
       "4866      8.455658    49.765426          19  \n",
       "7130     12.775607    53.913894          19  \n",
       "6967     13.448486    52.461206           8  \n",
       "5841      9.633526    50.616450          16  \n",
       "40332     9.678874    54.338817          16  \n",
       "5755     13.514182    53.829247          15  \n",
       "4107      7.976031    48.046606          10  \n",
       "18785    11.203685    50.655228           9  \n",
       "193       8.186001    53.282791           8  \n",
       "3955     11.036284    49.776391           9  "
      ]
     },
     "execution_count": 23,
     "metadata": {},
     "output_type": "execute_result"
    }
   ],
   "source": [
    "df.sample(10)"
   ]
  },
  {
   "cell_type": "code",
   "execution_count": 29,
   "metadata": {},
   "outputs": [],
   "source": [
    "waste_disposal_df = df[df['station'] == 'waste disposal centres']\n",
    "recycling_centres_df = df[df['station'] == 'recycling centres']"
   ]
  },
  {
   "cell_type": "code",
   "execution_count": 25,
   "metadata": {},
   "outputs": [
    {
     "data": {
      "text/plain": [
       "(20, 6)"
      ]
     },
     "execution_count": 25,
     "metadata": {},
     "output_type": "execute_result"
    }
   ],
   "source": [
    "waste_disposal_df.shape"
   ]
  },
  {
   "cell_type": "code",
   "execution_count": 30,
   "metadata": {},
   "outputs": [],
   "source": [
    "recycling_centres_df.to_csv('recycling_clusters.csv')"
   ]
  }
 ],
 "metadata": {
  "kernelspec": {
   "display_name": "Python 3",
   "language": "python",
   "name": "python3"
  },
  "language_info": {
   "codemirror_mode": {
    "name": "ipython",
    "version": 3
   },
   "file_extension": ".py",
   "mimetype": "text/x-python",
   "name": "python",
   "nbconvert_exporter": "python",
   "pygments_lexer": "ipython3",
   "version": "3.11.0"
  },
  "orig_nbformat": 4
 },
 "nbformat": 4,
 "nbformat_minor": 2
}
