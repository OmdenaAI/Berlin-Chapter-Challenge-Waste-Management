{
 "cells": [
  {
   "cell_type": "code",
   "execution_count": 1,
   "metadata": {},
   "outputs": [],
   "source": [
    "import xml.etree.ElementTree as ET\n",
    "import pandas as pd\n"
   ]
  },
  {
   "cell_type": "code",
   "execution_count": 21,
   "metadata": {},
   "outputs": [],
   "source": [
    "tree = ET.parse('E:\\\\mygit\\\\Berlin-Chapter-Challenge-Waste-Management\\\\src\\\\data\\\\1-raw data\\\\Geospatial Data\\\\waste_disposal\\\\wastedisposalsites_Thuringia_DE-TH.xml')  # Replace 'your_xml_file.xml' with the path to your XML file\n",
    "root = tree.getroot()\n"
   ]
  },
  {
   "cell_type": "code",
   "execution_count": 22,
   "metadata": {},
   "outputs": [],
   "source": [
    "data = []\n",
    "\n",
    "for node in root.findall('.//node'):\n",
    "    node_data = {}\n",
    "    node_data['id'] = node.get('id')\n",
    "    node_data['lat'] = node.get('lat')\n",
    "    node_data['lon'] = node.get('lon')\n",
    "    \n",
    "    for tag in node.findall('tag'):\n",
    "        key = tag.get('k')\n",
    "        value = tag.get('v')\n",
    "        node_data[key] = value\n",
    "    \n",
    "    data.append(node_data)\n"
   ]
  },
  {
   "cell_type": "code",
   "execution_count": 23,
   "metadata": {},
   "outputs": [],
   "source": [
    "df = pd.DataFrame(data)\n"
   ]
  },
  {
   "cell_type": "code",
   "execution_count": 24,
   "metadata": {},
   "outputs": [
    {
     "data": {
      "text/html": [
       "<div>\n",
       "<style scoped>\n",
       "    .dataframe tbody tr th:only-of-type {\n",
       "        vertical-align: middle;\n",
       "    }\n",
       "\n",
       "    .dataframe tbody tr th {\n",
       "        vertical-align: top;\n",
       "    }\n",
       "\n",
       "    .dataframe thead th {\n",
       "        text-align: right;\n",
       "    }\n",
       "</style>\n",
       "<table border=\"1\" class=\"dataframe\">\n",
       "  <thead>\n",
       "    <tr style=\"text-align: right;\">\n",
       "      <th></th>\n",
       "      <th>id</th>\n",
       "      <th>lat</th>\n",
       "      <th>lon</th>\n",
       "      <th>amenity</th>\n",
       "      <th>fountain</th>\n",
       "      <th>wikimedia_commons</th>\n",
       "      <th>created_by</th>\n",
       "      <th>wheelchair</th>\n",
       "      <th>bottle</th>\n",
       "      <th>flow</th>\n",
       "      <th>...</th>\n",
       "      <th>addr:housenumber</th>\n",
       "      <th>addr:postcode</th>\n",
       "      <th>description:de</th>\n",
       "      <th>drinking_water:legal</th>\n",
       "      <th>building</th>\n",
       "      <th>carbonized</th>\n",
       "      <th>chilled</th>\n",
       "      <th>name:fr</th>\n",
       "      <th>lit</th>\n",
       "      <th>website</th>\n",
       "    </tr>\n",
       "  </thead>\n",
       "  <tbody>\n",
       "    <tr>\n",
       "      <th>0</th>\n",
       "      <td>246569213</td>\n",
       "      <td>41.8245081</td>\n",
       "      <td>12.4855460</td>\n",
       "      <td>drinking_water</td>\n",
       "      <td>nasone</td>\n",
       "      <td>NaN</td>\n",
       "      <td>NaN</td>\n",
       "      <td>NaN</td>\n",
       "      <td>NaN</td>\n",
       "      <td>NaN</td>\n",
       "      <td>...</td>\n",
       "      <td>NaN</td>\n",
       "      <td>NaN</td>\n",
       "      <td>NaN</td>\n",
       "      <td>NaN</td>\n",
       "      <td>NaN</td>\n",
       "      <td>NaN</td>\n",
       "      <td>NaN</td>\n",
       "      <td>NaN</td>\n",
       "      <td>NaN</td>\n",
       "      <td>NaN</td>\n",
       "    </tr>\n",
       "    <tr>\n",
       "      <th>1</th>\n",
       "      <td>246569214</td>\n",
       "      <td>41.8526205</td>\n",
       "      <td>12.4783285</td>\n",
       "      <td>drinking_water</td>\n",
       "      <td>nasone</td>\n",
       "      <td>File:Nasone Giardino Alberto Oliva, Roma, Ital...</td>\n",
       "      <td>NaN</td>\n",
       "      <td>NaN</td>\n",
       "      <td>NaN</td>\n",
       "      <td>NaN</td>\n",
       "      <td>...</td>\n",
       "      <td>NaN</td>\n",
       "      <td>NaN</td>\n",
       "      <td>NaN</td>\n",
       "      <td>NaN</td>\n",
       "      <td>NaN</td>\n",
       "      <td>NaN</td>\n",
       "      <td>NaN</td>\n",
       "      <td>NaN</td>\n",
       "      <td>NaN</td>\n",
       "      <td>NaN</td>\n",
       "    </tr>\n",
       "    <tr>\n",
       "      <th>2</th>\n",
       "      <td>246569216</td>\n",
       "      <td>41.8637486</td>\n",
       "      <td>12.4789476</td>\n",
       "      <td>drinking_water</td>\n",
       "      <td>nasone</td>\n",
       "      <td>File:Nasone Via Ostiense, Roma, Italia Oct 31,...</td>\n",
       "      <td>NaN</td>\n",
       "      <td>NaN</td>\n",
       "      <td>NaN</td>\n",
       "      <td>NaN</td>\n",
       "      <td>...</td>\n",
       "      <td>NaN</td>\n",
       "      <td>NaN</td>\n",
       "      <td>NaN</td>\n",
       "      <td>NaN</td>\n",
       "      <td>NaN</td>\n",
       "      <td>NaN</td>\n",
       "      <td>NaN</td>\n",
       "      <td>NaN</td>\n",
       "      <td>NaN</td>\n",
       "      <td>NaN</td>\n",
       "    </tr>\n",
       "    <tr>\n",
       "      <th>3</th>\n",
       "      <td>246571139</td>\n",
       "      <td>41.9042869</td>\n",
       "      <td>12.5132783</td>\n",
       "      <td>drinking_water</td>\n",
       "      <td>NaN</td>\n",
       "      <td>NaN</td>\n",
       "      <td>JOSM</td>\n",
       "      <td>NaN</td>\n",
       "      <td>NaN</td>\n",
       "      <td>NaN</td>\n",
       "      <td>...</td>\n",
       "      <td>NaN</td>\n",
       "      <td>NaN</td>\n",
       "      <td>NaN</td>\n",
       "      <td>NaN</td>\n",
       "      <td>NaN</td>\n",
       "      <td>NaN</td>\n",
       "      <td>NaN</td>\n",
       "      <td>NaN</td>\n",
       "      <td>NaN</td>\n",
       "      <td>NaN</td>\n",
       "    </tr>\n",
       "    <tr>\n",
       "      <th>4</th>\n",
       "      <td>246571141</td>\n",
       "      <td>41.9047904</td>\n",
       "      <td>12.5162428</td>\n",
       "      <td>drinking_water</td>\n",
       "      <td>NaN</td>\n",
       "      <td>NaN</td>\n",
       "      <td>NaN</td>\n",
       "      <td>NaN</td>\n",
       "      <td>NaN</td>\n",
       "      <td>NaN</td>\n",
       "      <td>...</td>\n",
       "      <td>NaN</td>\n",
       "      <td>NaN</td>\n",
       "      <td>NaN</td>\n",
       "      <td>NaN</td>\n",
       "      <td>NaN</td>\n",
       "      <td>NaN</td>\n",
       "      <td>NaN</td>\n",
       "      <td>NaN</td>\n",
       "      <td>NaN</td>\n",
       "      <td>NaN</td>\n",
       "    </tr>\n",
       "  </tbody>\n",
       "</table>\n",
       "<p>5 rows × 73 columns</p>\n",
       "</div>"
      ],
      "text/plain": [
       "          id         lat         lon         amenity fountain   \n",
       "0  246569213  41.8245081  12.4855460  drinking_water   nasone  \\\n",
       "1  246569214  41.8526205  12.4783285  drinking_water   nasone   \n",
       "2  246569216  41.8637486  12.4789476  drinking_water   nasone   \n",
       "3  246571139  41.9042869  12.5132783  drinking_water      NaN   \n",
       "4  246571141  41.9047904  12.5162428  drinking_water      NaN   \n",
       "\n",
       "                                   wikimedia_commons created_by wheelchair   \n",
       "0                                                NaN        NaN        NaN  \\\n",
       "1  File:Nasone Giardino Alberto Oliva, Roma, Ital...        NaN        NaN   \n",
       "2  File:Nasone Via Ostiense, Roma, Italia Oct 31,...        NaN        NaN   \n",
       "3                                                NaN       JOSM        NaN   \n",
       "4                                                NaN        NaN        NaN   \n",
       "\n",
       "  bottle flow  ... addr:housenumber addr:postcode description:de   \n",
       "0    NaN  NaN  ...              NaN           NaN            NaN  \\\n",
       "1    NaN  NaN  ...              NaN           NaN            NaN   \n",
       "2    NaN  NaN  ...              NaN           NaN            NaN   \n",
       "3    NaN  NaN  ...              NaN           NaN            NaN   \n",
       "4    NaN  NaN  ...              NaN           NaN            NaN   \n",
       "\n",
       "  drinking_water:legal building carbonized chilled name:fr  lit website  \n",
       "0                  NaN      NaN        NaN     NaN     NaN  NaN     NaN  \n",
       "1                  NaN      NaN        NaN     NaN     NaN  NaN     NaN  \n",
       "2                  NaN      NaN        NaN     NaN     NaN  NaN     NaN  \n",
       "3                  NaN      NaN        NaN     NaN     NaN  NaN     NaN  \n",
       "4                  NaN      NaN        NaN     NaN     NaN  NaN     NaN  \n",
       "\n",
       "[5 rows x 73 columns]"
      ]
     },
     "execution_count": 24,
     "metadata": {},
     "output_type": "execute_result"
    }
   ],
   "source": [
    "df.head()"
   ]
  },
  {
   "cell_type": "code",
   "execution_count": 25,
   "metadata": {},
   "outputs": [
    {
     "data": {
      "text/plain": [
       "(1960, 73)"
      ]
     },
     "execution_count": 25,
     "metadata": {},
     "output_type": "execute_result"
    }
   ],
   "source": [
    "df.shape"
   ]
  },
  {
   "cell_type": "code",
   "execution_count": 26,
   "metadata": {},
   "outputs": [
    {
     "data": {
      "text/plain": [
       "id               0\n",
       "lat              0\n",
       "lon              0\n",
       "amenity          0\n",
       "fountain      1163\n",
       "              ... \n",
       "carbonized    1959\n",
       "chilled       1959\n",
       "name:fr       1959\n",
       "lit           1959\n",
       "website       1958\n",
       "Length: 73, dtype: int64"
      ]
     },
     "execution_count": 26,
     "metadata": {},
     "output_type": "execute_result"
    }
   ],
   "source": [
    "df.isnull().sum()"
   ]
  },
  {
   "cell_type": "code",
   "execution_count": 27,
   "metadata": {},
   "outputs": [],
   "source": [
    "new_df = df[['id','lat','lon']]"
   ]
  },
  {
   "cell_type": "code",
   "execution_count": 28,
   "metadata": {},
   "outputs": [
    {
     "name": "stderr",
     "output_type": "stream",
     "text": [
      "C:\\Users\\DELL\\AppData\\Local\\Temp\\ipykernel_676\\1196869661.py:1: SettingWithCopyWarning: \n",
      "A value is trying to be set on a copy of a slice from a DataFrame\n",
      "\n",
      "See the caveats in the documentation: https://pandas.pydata.org/pandas-docs/stable/user_guide/indexing.html#returning-a-view-versus-a-copy\n",
      "  new_df.dropna(subset=['lat', 'lon'], inplace=True)\n"
     ]
    }
   ],
   "source": [
    "new_df.dropna(subset=['lat', 'lon'], inplace=True)"
   ]
  },
  {
   "cell_type": "code",
   "execution_count": 20,
   "metadata": {},
   "outputs": [],
   "source": [
    "new_df.to_csv('WasteDisposalCentres__Thuringia.csv', index=False) "
   ]
  }
 ],
 "metadata": {
  "kernelspec": {
   "display_name": "Python 3",
   "language": "python",
   "name": "python3"
  },
  "language_info": {
   "codemirror_mode": {
    "name": "ipython",
    "version": 3
   },
   "file_extension": ".py",
   "mimetype": "text/x-python",
   "name": "python",
   "nbconvert_exporter": "python",
   "pygments_lexer": "ipython3",
   "version": "3.11.0"
  },
  "orig_nbformat": 4
 },
 "nbformat": 4,
 "nbformat_minor": 2
}
