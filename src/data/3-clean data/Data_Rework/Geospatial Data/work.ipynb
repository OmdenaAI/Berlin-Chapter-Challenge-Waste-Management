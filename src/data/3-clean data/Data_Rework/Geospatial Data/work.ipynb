{
 "cells": [
  {
   "cell_type": "code",
   "execution_count": 1,
   "metadata": {},
   "outputs": [],
   "source": [
    "import pandas as pd \n",
    "import numpy as np\n"
   ]
  },
  {
   "cell_type": "code",
   "execution_count": 3,
   "metadata": {},
   "outputs": [],
   "source": [
    "paths = {\n",
    "    \"E:\\\\mygit\\\\Berlin-Chapter-Challenge-Waste-Management\\\\src\\\\data\\\\3-clean data\\\\Data_Rework\\\\Geospatial Data\\\\Landfills\\\\complete_landfills.csv\" : \"landfills\",\n",
    "    \"E:\\\\mygit\\\\Berlin-Chapter-Challenge-Waste-Management\\\\src\\\\data\\\\3-clean data\\\\Data_Rework\\\\Geospatial Data\\\\Waste Disposal Centres\\\\complete_wastedisposalcentres.csv\" : \"waste disposal centres\",\n",
    "    \"E:\\\\mygit\\\\Berlin-Chapter-Challenge-Waste-Management\\\\src\\\\data\\\\3-clean data\\\\Data_Rework\\\\Geospatial Data\\\\Waste Transfer Stations\\\\complete_wastetransfercentres.csv\" : \"waste transfer stations\",  \n",
    "}"
   ]
  },
  {
   "cell_type": "code",
   "execution_count": 2,
   "metadata": {},
   "outputs": [],
   "source": [
    "def concatenate_csv_files(csv_paths, output_file):\n",
    "    complete_df = pd.DataFrame()\n",
    "    \n",
    "    for csv_path, _ in csv_paths.items(): \n",
    "        df = pd.read_csv(csv_path)\n",
    "        complete_df = pd.concat([complete_df, df], ignore_index=True)\n",
    "        \n",
    "    complete_df.to_csv(output_file, index=False)"
   ]
  },
  {
   "cell_type": "code",
   "execution_count": 4,
   "metadata": {},
   "outputs": [],
   "source": [
    "output = \"complete_geospatialdata.csv\"\n",
    "concatenate_csv_files(paths,output)"
   ]
  },
  {
   "cell_type": "code",
   "execution_count": 5,
   "metadata": {},
   "outputs": [],
   "source": [
    "df = pd.read_csv(\"E:\\\\mygit\\\\Berlin-Chapter-Challenge-Waste-Management\\\\src\\\\data\\\\3-clean data\\\\Data_Rework\\\\Geospatial Data\\\\complete_geospatialdata.csv\")"
   ]
  },
  {
   "cell_type": "code",
   "execution_count": 6,
   "metadata": {},
   "outputs": [
    {
     "data": {
      "text/plain": [
       "(39192, 5)"
      ]
     },
     "execution_count": 6,
     "metadata": {},
     "output_type": "execute_result"
    }
   ],
   "source": [
    "df.shape"
   ]
  },
  {
   "cell_type": "code",
   "execution_count": 7,
   "metadata": {},
   "outputs": [],
   "source": [
    "df.dropna(subset=['id', 'lat', 'lon'], inplace=True)"
   ]
  },
  {
   "cell_type": "code",
   "execution_count": 8,
   "metadata": {},
   "outputs": [
    {
     "data": {
      "text/plain": [
       "(39028, 5)"
      ]
     },
     "execution_count": 8,
     "metadata": {},
     "output_type": "execute_result"
    }
   ],
   "source": [
    "df.shape"
   ]
  },
  {
   "cell_type": "code",
   "execution_count": 9,
   "metadata": {},
   "outputs": [],
   "source": [
    "df.to_csv(\"E:\\\\mygit\\\\Berlin-Chapter-Challenge-Waste-Management\\\\src\\\\data\\\\3-clean data\\\\Data_Rework\\\\Geospatial Data\\\\complete_geospatialdata.csv\")"
   ]
  },
  {
   "cell_type": "code",
   "execution_count": 14,
   "metadata": {},
   "outputs": [],
   "source": [
    "#complete_df = pd.read_csv(\"E:\\\\mygit\\\\Berlin-Chapter-Challenge-Waste-Management\\\\src\\\\data\\\\3-clean data\\\\Data_Rework\\\\Geospatial Data\\\\complete_geospatialdata.csv\")\n",
    "df = pd.read_csv(\"E:\\\\mygit\\\\Berlin-Chapter-Challenge-Waste-Management\\\\src\\\\data\\\\3-clean data\\\\Data_Rework\\\\Geospatial Data\\\\Recycling centres\\\\complete_recyclingcentres.csv\")"
   ]
  },
  {
   "cell_type": "code",
   "execution_count": 15,
   "metadata": {},
   "outputs": [
    {
     "data": {
      "text/plain": [
       "Index(['id', 'lat', 'lon', 'station', 'state', 'glass_related_recycling',\n",
       "       'electrical_related_recycling', 'metal_related_recycling',\n",
       "       'packaging_wastes', 'paper_wastes', 'plastic_wastes', 'organic_wastes',\n",
       "       'construction_wastes', 'hazardous/toxic', 'textiles'],\n",
       "      dtype='object')"
      ]
     },
     "execution_count": 15,
     "metadata": {},
     "output_type": "execute_result"
    }
   ],
   "source": [
    "df.columns"
   ]
  },
  {
   "cell_type": "code",
   "execution_count": 16,
   "metadata": {},
   "outputs": [],
   "source": [
    "df = df.replace({'yes': 1, 'no': 0})"
   ]
  },
  {
   "cell_type": "code",
   "execution_count": 18,
   "metadata": {},
   "outputs": [
    {
     "data": {
      "text/html": [
       "<div>\n",
       "<style scoped>\n",
       "    .dataframe tbody tr th:only-of-type {\n",
       "        vertical-align: middle;\n",
       "    }\n",
       "\n",
       "    .dataframe tbody tr th {\n",
       "        vertical-align: top;\n",
       "    }\n",
       "\n",
       "    .dataframe thead th {\n",
       "        text-align: right;\n",
       "    }\n",
       "</style>\n",
       "<table border=\"1\" class=\"dataframe\">\n",
       "  <thead>\n",
       "    <tr style=\"text-align: right;\">\n",
       "      <th></th>\n",
       "      <th>id</th>\n",
       "      <th>lat</th>\n",
       "      <th>lon</th>\n",
       "      <th>station</th>\n",
       "      <th>state</th>\n",
       "      <th>glass_related_recycling</th>\n",
       "      <th>electrical_related_recycling</th>\n",
       "      <th>metal_related_recycling</th>\n",
       "      <th>packaging_wastes</th>\n",
       "      <th>paper_wastes</th>\n",
       "      <th>plastic_wastes</th>\n",
       "      <th>organic_wastes</th>\n",
       "      <th>construction_wastes</th>\n",
       "      <th>hazardous/toxic</th>\n",
       "      <th>textiles</th>\n",
       "    </tr>\n",
       "  </thead>\n",
       "  <tbody>\n",
       "    <tr>\n",
       "      <th>69864</th>\n",
       "      <td>2744610214</td>\n",
       "      <td>52.263147</td>\n",
       "      <td>9.779006</td>\n",
       "      <td>recycling centres</td>\n",
       "      <td>Lower Saxony</td>\n",
       "      <td>0</td>\n",
       "      <td>0</td>\n",
       "      <td>0</td>\n",
       "      <td>0</td>\n",
       "      <td>0</td>\n",
       "      <td>0</td>\n",
       "      <td>0</td>\n",
       "      <td>0</td>\n",
       "      <td>0</td>\n",
       "      <td>0</td>\n",
       "    </tr>\n",
       "    <tr>\n",
       "      <th>64373</th>\n",
       "      <td>2165545242</td>\n",
       "      <td>49.885558</td>\n",
       "      <td>8.874564</td>\n",
       "      <td>recycling centres</td>\n",
       "      <td>Hesse</td>\n",
       "      <td>0</td>\n",
       "      <td>0</td>\n",
       "      <td>0</td>\n",
       "      <td>0</td>\n",
       "      <td>0</td>\n",
       "      <td>0</td>\n",
       "      <td>0</td>\n",
       "      <td>0</td>\n",
       "      <td>0</td>\n",
       "      <td>0</td>\n",
       "    </tr>\n",
       "    <tr>\n",
       "      <th>36473</th>\n",
       "      <td>413250160</td>\n",
       "      <td>52.122106</td>\n",
       "      <td>8.692797</td>\n",
       "      <td>recycling centres</td>\n",
       "      <td>North Rhine-Westphalia</td>\n",
       "      <td>0</td>\n",
       "      <td>0</td>\n",
       "      <td>0</td>\n",
       "      <td>0</td>\n",
       "      <td>0</td>\n",
       "      <td>0</td>\n",
       "      <td>0</td>\n",
       "      <td>0</td>\n",
       "      <td>0</td>\n",
       "      <td>0</td>\n",
       "    </tr>\n",
       "    <tr>\n",
       "      <th>116040</th>\n",
       "      <td>2090136143</td>\n",
       "      <td>48.714808</td>\n",
       "      <td>13.090535</td>\n",
       "      <td>recycling centres</td>\n",
       "      <td>Bavaria</td>\n",
       "      <td>0</td>\n",
       "      <td>0</td>\n",
       "      <td>0</td>\n",
       "      <td>0</td>\n",
       "      <td>0</td>\n",
       "      <td>0</td>\n",
       "      <td>0</td>\n",
       "      <td>0</td>\n",
       "      <td>0</td>\n",
       "      <td>0</td>\n",
       "    </tr>\n",
       "    <tr>\n",
       "      <th>23194</th>\n",
       "      <td>2308210544</td>\n",
       "      <td>48.688184</td>\n",
       "      <td>9.743238</td>\n",
       "      <td>recycling centres</td>\n",
       "      <td>Baden_Württemberg</td>\n",
       "      <td>0</td>\n",
       "      <td>0</td>\n",
       "      <td>0</td>\n",
       "      <td>0</td>\n",
       "      <td>0</td>\n",
       "      <td>0</td>\n",
       "      <td>0</td>\n",
       "      <td>0</td>\n",
       "      <td>0</td>\n",
       "      <td>0</td>\n",
       "    </tr>\n",
       "    <tr>\n",
       "      <th>17018</th>\n",
       "      <td>8503744463</td>\n",
       "      <td>48.456658</td>\n",
       "      <td>9.059469</td>\n",
       "      <td>recycling centres</td>\n",
       "      <td>Baden_Württemberg</td>\n",
       "      <td>0</td>\n",
       "      <td>0</td>\n",
       "      <td>0</td>\n",
       "      <td>0</td>\n",
       "      <td>0</td>\n",
       "      <td>0</td>\n",
       "      <td>0</td>\n",
       "      <td>0</td>\n",
       "      <td>0</td>\n",
       "      <td>1</td>\n",
       "    </tr>\n",
       "    <tr>\n",
       "      <th>48957</th>\n",
       "      <td>8248789696</td>\n",
       "      <td>51.526220</td>\n",
       "      <td>7.363010</td>\n",
       "      <td>recycling centres</td>\n",
       "      <td>North Rhine-Westphalia</td>\n",
       "      <td>0</td>\n",
       "      <td>0</td>\n",
       "      <td>0</td>\n",
       "      <td>0</td>\n",
       "      <td>0</td>\n",
       "      <td>0</td>\n",
       "      <td>0</td>\n",
       "      <td>0</td>\n",
       "      <td>0</td>\n",
       "      <td>0</td>\n",
       "    </tr>\n",
       "    <tr>\n",
       "      <th>95783</th>\n",
       "      <td>10294767170</td>\n",
       "      <td>52.092818</td>\n",
       "      <td>11.610386</td>\n",
       "      <td>recycling centres</td>\n",
       "      <td>Saxony-Anhalt</td>\n",
       "      <td>0</td>\n",
       "      <td>0</td>\n",
       "      <td>0</td>\n",
       "      <td>0</td>\n",
       "      <td>0</td>\n",
       "      <td>0</td>\n",
       "      <td>0</td>\n",
       "      <td>0</td>\n",
       "      <td>0</td>\n",
       "      <td>1</td>\n",
       "    </tr>\n",
       "    <tr>\n",
       "      <th>101728</th>\n",
       "      <td>1573753987</td>\n",
       "      <td>49.441026</td>\n",
       "      <td>11.108362</td>\n",
       "      <td>recycling centres</td>\n",
       "      <td>Bavaria</td>\n",
       "      <td>0</td>\n",
       "      <td>0</td>\n",
       "      <td>0</td>\n",
       "      <td>0</td>\n",
       "      <td>0</td>\n",
       "      <td>0</td>\n",
       "      <td>0</td>\n",
       "      <td>0</td>\n",
       "      <td>0</td>\n",
       "      <td>0</td>\n",
       "    </tr>\n",
       "    <tr>\n",
       "      <th>68464</th>\n",
       "      <td>925249751</td>\n",
       "      <td>51.549396</td>\n",
       "      <td>9.770263</td>\n",
       "      <td>recycling centres</td>\n",
       "      <td>Lower Saxony</td>\n",
       "      <td>0</td>\n",
       "      <td>0</td>\n",
       "      <td>0</td>\n",
       "      <td>0</td>\n",
       "      <td>0</td>\n",
       "      <td>0</td>\n",
       "      <td>0</td>\n",
       "      <td>0</td>\n",
       "      <td>0</td>\n",
       "      <td>0</td>\n",
       "    </tr>\n",
       "  </tbody>\n",
       "</table>\n",
       "</div>"
      ],
      "text/plain": [
       "                 id        lat        lon            station   \n",
       "69864    2744610214  52.263147   9.779006  recycling centres  \\\n",
       "64373    2165545242  49.885558   8.874564  recycling centres   \n",
       "36473     413250160  52.122106   8.692797  recycling centres   \n",
       "116040   2090136143  48.714808  13.090535  recycling centres   \n",
       "23194    2308210544  48.688184   9.743238  recycling centres   \n",
       "17018    8503744463  48.456658   9.059469  recycling centres   \n",
       "48957    8248789696  51.526220   7.363010  recycling centres   \n",
       "95783   10294767170  52.092818  11.610386  recycling centres   \n",
       "101728   1573753987  49.441026  11.108362  recycling centres   \n",
       "68464     925249751  51.549396   9.770263  recycling centres   \n",
       "\n",
       "                         state  glass_related_recycling   \n",
       "69864             Lower Saxony                        0  \\\n",
       "64373                    Hesse                        0   \n",
       "36473   North Rhine-Westphalia                        0   \n",
       "116040                 Bavaria                        0   \n",
       "23194        Baden_Württemberg                        0   \n",
       "17018        Baden_Württemberg                        0   \n",
       "48957   North Rhine-Westphalia                        0   \n",
       "95783            Saxony-Anhalt                        0   \n",
       "101728                 Bavaria                        0   \n",
       "68464             Lower Saxony                        0   \n",
       "\n",
       "        electrical_related_recycling  metal_related_recycling   \n",
       "69864                              0                        0  \\\n",
       "64373                              0                        0   \n",
       "36473                              0                        0   \n",
       "116040                             0                        0   \n",
       "23194                              0                        0   \n",
       "17018                              0                        0   \n",
       "48957                              0                        0   \n",
       "95783                              0                        0   \n",
       "101728                             0                        0   \n",
       "68464                              0                        0   \n",
       "\n",
       "        packaging_wastes  paper_wastes  plastic_wastes  organic_wastes   \n",
       "69864                  0             0               0               0  \\\n",
       "64373                  0             0               0               0   \n",
       "36473                  0             0               0               0   \n",
       "116040                 0             0               0               0   \n",
       "23194                  0             0               0               0   \n",
       "17018                  0             0               0               0   \n",
       "48957                  0             0               0               0   \n",
       "95783                  0             0               0               0   \n",
       "101728                 0             0               0               0   \n",
       "68464                  0             0               0               0   \n",
       "\n",
       "        construction_wastes  hazardous/toxic  textiles  \n",
       "69864                     0                0         0  \n",
       "64373                     0                0         0  \n",
       "36473                     0                0         0  \n",
       "116040                    0                0         0  \n",
       "23194                     0                0         0  \n",
       "17018                     0                0         1  \n",
       "48957                     0                0         0  \n",
       "95783                     0                0         1  \n",
       "101728                    0                0         0  \n",
       "68464                     0                0         0  "
      ]
     },
     "execution_count": 18,
     "metadata": {},
     "output_type": "execute_result"
    }
   ],
   "source": [
    "df.sample(10)"
   ]
  },
  {
   "cell_type": "code",
   "execution_count": 10,
   "metadata": {},
   "outputs": [],
   "source": [
    "complete_df.to_csv(\"complete_geospatialdata_withfactors.csv\")"
   ]
  }
 ],
 "metadata": {
  "kernelspec": {
   "display_name": "Python 3",
   "language": "python",
   "name": "python3"
  },
  "language_info": {
   "codemirror_mode": {
    "name": "ipython",
    "version": 3
   },
   "file_extension": ".py",
   "mimetype": "text/x-python",
   "name": "python",
   "nbconvert_exporter": "python",
   "pygments_lexer": "ipython3",
   "version": "3.11.0"
  },
  "orig_nbformat": 4
 },
 "nbformat": 4,
 "nbformat_minor": 2
}
